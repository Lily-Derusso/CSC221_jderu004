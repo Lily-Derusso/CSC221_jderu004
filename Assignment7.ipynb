{
  "nbformat": 4,
  "nbformat_minor": 0,
  "metadata": {
    "colab": {
      "provenance": [],
      "authorship_tag": "ABX9TyOtWpmtzXNZBaPkMgjd/LVo",
      "include_colab_link": true
    },
    "kernelspec": {
      "name": "python3",
      "display_name": "Python 3"
    },
    "language_info": {
      "name": "python"
    }
  },
  "cells": [
    {
      "cell_type": "markdown",
      "metadata": {
        "id": "view-in-github",
        "colab_type": "text"
      },
      "source": [
        "<a href=\"https://colab.research.google.com/github/Lily-Derusso/CSC221_jderu004/blob/main/Assignment7.ipynb\" target=\"_parent\"><img src=\"https://colab.research.google.com/assets/colab-badge.svg\" alt=\"Open In Colab\"/></a>"
      ]
    },
    {
      "cell_type": "code",
      "execution_count": 7,
      "metadata": {
        "colab": {
          "base_uri": "https://localhost:8080/"
        },
        "id": "fZuDT18IY-qN",
        "outputId": "45960d43-4952-44eb-fa9f-0916333f427b"
      },
      "outputs": [
        {
          "output_type": "stream",
          "name": "stdout",
          "text": [
            "{'first_name': 'Kahmani', 'last_name': 'Jones', 'city': 'Albany'}\n",
            "Kahmani\n",
            "Jones\n",
            "Albany\n"
          ]
        }
      ],
      "source": [
        "#TIY 6-1\n",
        "person_1 = {\n",
        "    'first_name' : 'Kahmani',\n",
        "    'last_name' : 'Jones',\n",
        "    'city' : 'Albany',\n",
        "    }\n",
        "print(person_1)\n",
        "print(person_1['first_name'])\n",
        "print(person_1['last_name'])\n",
        "print(person_1['city'])"
      ]
    },
    {
      "cell_type": "code",
      "source": [
        "#TIY 6-2\n",
        "fav_numbers = { }\n",
        "fav_numbers['Noah'] = 17\n",
        "fav_numbers['Kahmani'] = 26\n",
        "fav_numbers['Kat'] = 13\n",
        "fav_numbers['Daniel'] = 2\n",
        "fav_numbers['Oliver'] = 7\n",
        "\n",
        "for people, value in fav_numbers.items():\n",
        "    print(people + ':', value)"
      ],
      "metadata": {
        "colab": {
          "base_uri": "https://localhost:8080/"
        },
        "id": "MVkh6TxPZMIc",
        "outputId": "c4fc180f-f84f-4460-d6c5-745712837721"
      },
      "execution_count": 16,
      "outputs": [
        {
          "output_type": "stream",
          "name": "stdout",
          "text": [
            "Noah: 17\n",
            "Kahmani: 26\n",
            "Kat: 13\n",
            "Daniel: 2\n",
            "Oliver: 7\n"
          ]
        }
      ]
    },
    {
      "cell_type": "code",
      "source": [
        "#TIY 6-3 137\n",
        "glossary = {}\n",
        "glossary['while'] = 'while a statement is true this loop will repeat'\n",
        "glossary['#'] = 'comment for people that the program ignores'\n",
        "glossary['print'] = 'used to print information to the screen for humans'\n",
        "glossary['if'] = 'a decision branch causing the program to decide if'\n",
        "glossary['if'] += ' something is true or false'\n",
        "glossary['else'] = 'if all \"if\" statements are false for a piece of inforamtion'\n",
        "glossary['else'] += ' it can be put though an else statement'\n",
        "\n",
        "print('while :', glossary['while'])\n",
        "print('# :', glossary['#'])\n",
        "print('print :', glossary['print'])\n",
        "print('if :', glossary['if'])\n",
        "print('else :', glossary['else'])\n"
      ],
      "metadata": {
        "colab": {
          "base_uri": "https://localhost:8080/"
        },
        "id": "fd1I_7vnZNmE",
        "outputId": "c9e25364-e244-4673-adad-8cf36310d93c"
      },
      "execution_count": 35,
      "outputs": [
        {
          "output_type": "stream",
          "name": "stdout",
          "text": [
            "while : while a statement is true this loop will repeat\n",
            "# : comment for people that the program ignores\n",
            "print : used to print information to the screen for humans\n",
            "if : a decision branch causing the program to decide if something is true or false\n",
            "else : if all \"if\" statements are false for a piece of inforamtion it can be put though an else statement\n"
          ]
        }
      ]
    },
    {
      "cell_type": "code",
      "source": [
        "#TIY 6-4\n",
        "glossary = {}\n",
        "glossary['while'] = 'while a statement is true this loop will repeat'\n",
        "glossary['#'] = 'comment for people that the program ignores'\n",
        "glossary['print'] = 'used to print information to the screen for humans'\n",
        "glossary['if'] = 'a decision branch causing the program to decide if'\n",
        "glossary['if'] += ' something is true or false'\n",
        "glossary['else'] = 'if all \"if\" statements are false for a piece of inforamtion'\n",
        "glossary['else'] += ' it can be put though an else statement'\n",
        "\n",
        "#new terms\n",
        "glossary['elif'] = 'can follow an \"if\" statement. Mix of else and if'\n",
        "glossary['int'] = 'stands for integer, some examples are 7, 13 and 666'\n",
        "glossary['str'] = 'stands for string. used to refer to information contained in'\n",
        "glossary['str'] += ' \"\"'\n",
        "glossary['boolean'] = 'used to refer to a true, false statemnt in python'\n",
        "glossary['def'] = 'used to signify a function. stores information in a \"box\"'\n",
        "glossary['def'] += ' to be called on'\n",
        "\n",
        "\n",
        "number = 1\n",
        "for term, value in glossary.items():\n",
        "\n",
        "    print(number, term + ':', value)\n",
        "    number += 1"
      ],
      "metadata": {
        "colab": {
          "base_uri": "https://localhost:8080/"
        },
        "id": "Ragrw1O5ZRhM",
        "outputId": "6d9f824d-d77d-497f-e279-425d66eaef79"
      },
      "execution_count": 41,
      "outputs": [
        {
          "output_type": "stream",
          "name": "stdout",
          "text": [
            "1 while: while a statement is true this loop will repeat\n",
            "2 #: comment for people that the program ignores\n",
            "3 print: used to print information to the screen for humans\n",
            "4 if: a decision branch causing the program to decide if something is true or false\n",
            "5 else: if all \"if\" statements are false for a piece of inforamtion it can be put though an else statement\n",
            "6 elif: can follow an \"if\" statement. Mix of else and if\n",
            "7 int: stands for integer, some examples are 7, 13 and 666\n",
            "8 str: stands for string. used to refer to information contained in \"\"\n",
            "9 boolean: used to refer to a true, false statemnt in python\n",
            "10 def: used to signify a function. stores information in a \"box\" to be called on\n"
          ]
        }
      ]
    },
    {
      "cell_type": "code",
      "source": [
        "#TIY 6-11\n",
        "cities = {\n",
        "    'albany' : {\n",
        "        'country' : 'the United states of america',\n",
        "        'population' : '98,617 people',\n",
        "        'fact' : 'It is the capital of New York state.',\n",
        "    },\n",
        "    'hólmavík' : {\n",
        "        'country' : 'Iceland',\n",
        "        'population' : '375',\n",
        "        'fact' : 'It is the location of the'\n",
        "        ' Museum of Icelandic Sorcery and Witchcraft.',\n",
        "    },\n",
        "    'venice' :{\n",
        "        'country' : 'Italy',\n",
        "        'population' : '261,905',\n",
        "        'fact' : 'Venice was its own soverign state under the \"Republic of '\n",
        "        'Venice\" until the year 1797 when it was disolved by Napolian.'\n",
        "    }\n",
        "}\n",
        "for city, info in cities.items():\n",
        "    country = info['country']\n",
        "    population = info['population']\n",
        "    fact = info['fact']\n",
        "    print(f\"The city of {city.title()} in the counrty of {country.title()} has a population of {population}.\\n\\t {fact}\\n\")"
      ],
      "metadata": {
        "colab": {
          "base_uri": "https://localhost:8080/"
        },
        "id": "usaKV1YpZqpV",
        "outputId": "e1f43ad6-edfb-4f60-d589-3f1813a17df4"
      },
      "execution_count": 91,
      "outputs": [
        {
          "output_type": "stream",
          "name": "stdout",
          "text": [
            "The city of Albany in the counrty of The United States Of America has a population of 98,617 people.\n",
            "\t It is the capital of New York state.\n",
            "\n",
            "The city of Hólmavík in the counrty of Iceland has a population of 375.\n",
            "\t It is the location of the Museum of Icelandic Sorcery and Witchcraft.\n",
            "\n",
            "The city of Venice in the counrty of Italy has a population of 261,905.\n",
            "\t Venice was its own soverign state under the \"Republic of Venice\" until the year 1797 when it was disolved by Napolian.\n",
            "\n"
          ]
        }
      ]
    },
    {
      "cell_type": "code",
      "source": [
        "#Create a dictionary from a file\n",
        "input_file = open('student_grades.txt', 'r')\n",
        "\n",
        "gradebook = {}\n",
        "\n",
        "keep_going = True\n",
        "\n",
        "while keep_going:\n",
        "\n",
        "    line = input_file.readline()\n",
        "\n",
        "    if len(line) < 1:\n",
        "        keep_going = False\n",
        "\n",
        "    else:\n",
        "\n",
        "        line = line.strip()\n",
        "\n",
        "        if len(line) > 0:\n",
        "            student, grade = line.strip().split(',')\n",
        "            gradebook[student] = grade\n",
        "print(gradebook)\n",
        "print('\\n Students in alphabetical order')\n",
        "for name in sorted(gradebook.keys()):\n",
        "    print({name.title()})\n",
        "print(\"\\nGrades from greatest to least\")\n",
        "for grade in sorted(gradebook.values(), reverse = True):\n",
        "    print(grade)\n",
        "\n",
        "input_file.close()"
      ],
      "metadata": {
        "colab": {
          "base_uri": "https://localhost:8080/"
        },
        "id": "JFDZVJRMKcI1",
        "outputId": "22637e7f-b212-4746-8df5-0c647a4d4ef8"
      },
      "execution_count": 137,
      "outputs": [
        {
          "output_type": "stream",
          "name": "stdout",
          "text": [
            "{'kevin': ' 91', 'ayush': ' 94', 'bob': ' 97', 'amy': ' 89', 'ankita': ' 97', 'ned': ' 79', 'timmy': ' 82'}\n",
            "\n",
            " Students in alphabetical order\n",
            "{'Amy'}\n",
            "{'Ankita'}\n",
            "{'Ayush'}\n",
            "{'Bob'}\n",
            "{'Kevin'}\n",
            "{'Ned'}\n",
            "{'Timmy'}\n",
            "\n",
            "Grades from greatest to least\n",
            " 97\n",
            " 97\n",
            " 94\n",
            " 91\n",
            " 89\n",
            " 82\n",
            " 79\n"
          ]
        }
      ]
    }
  ]
}