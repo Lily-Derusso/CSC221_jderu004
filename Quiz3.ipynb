{
  "nbformat": 4,
  "nbformat_minor": 0,
  "metadata": {
    "colab": {
      "provenance": [],
      "authorship_tag": "ABX9TyOgZgo4fI7PsCPflm7Msfjm",
      "include_colab_link": true
    },
    "kernelspec": {
      "name": "python3",
      "display_name": "Python 3"
    },
    "language_info": {
      "name": "python"
    }
  },
  "cells": [
    {
      "cell_type": "markdown",
      "metadata": {
        "id": "view-in-github",
        "colab_type": "text"
      },
      "source": [
        "<a href=\"https://colab.research.google.com/github/Lily-Derusso/CSC221_jderu004/blob/main/Quiz3.ipynb\" target=\"_parent\"><img src=\"https://colab.research.google.com/assets/colab-badge.svg\" alt=\"Open In Colab\"/></a>"
      ]
    },
    {
      "cell_type": "markdown",
      "source": [
        "#bin()"
      ],
      "metadata": {
        "id": "sDy20DnF2Edq"
      }
    },
    {
      "cell_type": "code",
      "execution_count": 200,
      "metadata": {
        "id": "I1UB24U42Edq",
        "colab": {
          "base_uri": "https://localhost:8080/"
        },
        "outputId": "f034959e-2125-40da-97ef-44bed85d86e2"
      },
      "outputs": [
        {
          "output_type": "stream",
          "name": "stdout",
          "text": [
            "10 in binary is   0b1010\n",
            "\n",
            "300 in binary is   0b100101100\n",
            "\n",
            "255 in binary is   0b11111111\n",
            "\n"
          ]
        }
      ],
      "source": [
        "def decimal_to_binary(decimal):\n",
        "    #bin() converts an integer int its binary (base 2) counterpart\n",
        "    binary = bin(decimal)\n",
        "    print(f\"{decimal} in binary is   {binary}\\n\")\n",
        "\n",
        "decimal_to_binary(10)\n",
        "decimal_to_binary(300)\n",
        "decimal_to_binary(255)"
      ]
    },
    {
      "cell_type": "markdown",
      "source": [
        "#float()"
      ],
      "metadata": {
        "id": "AHv4N5Iu13cV"
      }
    },
    {
      "cell_type": "code",
      "execution_count": null,
      "metadata": {
        "id": "MCj_igvIeGZf",
        "colab": {
          "base_uri": "https://localhost:8080/"
        },
        "outputId": "27ce04ff-2494-4e66-d4c2-8de3b4f9b34d"
      },
      "outputs": [
        {
          "output_type": "stream",
          "name": "stdout",
          "text": [
            "10.0\n",
            "225.0\n",
            "-13.0\n",
            "25.0\n"
          ]
        }
      ],
      "source": [
        "def make_float(x):\n",
        "    #float() turns a numerical value into a floating point number with a decimal place\n",
        "    print(float(x))\n",
        "\n",
        "make_float(10)\n",
        "make_float(225)\n",
        "make_float(-13)\n",
        "make_float(25)"
      ]
    },
    {
      "cell_type": "markdown",
      "source": [
        "#hex()"
      ],
      "metadata": {
        "id": "EE1ljdBf2Ekb"
      }
    },
    {
      "cell_type": "code",
      "execution_count": null,
      "metadata": {
        "colab": {
          "base_uri": "https://localhost:8080/"
        },
        "id": "h5Bvn95E2Ekc",
        "outputId": "e94a34cb-9b26-4b67-9a2f-4cb57e2243de"
      },
      "outputs": [
        {
          "output_type": "stream",
          "name": "stdout",
          "text": [
            "Base 10: 225\n",
            "\tHexadecimal: 0xe1\n",
            "Base 10: 666\n",
            "\tHexadecimal: 0x29a\n",
            "Base 10: 175424\n",
            "\tHexadecimal: 0x2ad40\n",
            "Base 10: 142\n",
            "\tHexadecimal: 0x8e\n",
            "Base 10: 3.141579\n",
            "\tHexadecimal: 0x1.921f42bb66730p+1\n",
            "Base 10: 17481.85\n",
            "\tHexadecimal: 0x1.1127666666666p+14\n"
          ]
        }
      ],
      "source": [
        "def convert_to_hex(base_ten):\n",
        "    #hex converts a intiger (base 10) into hexadecimal form (base 16)\n",
        "    if base_ten == int(base_ten):\n",
        "        base_hex = hex(base_ten)\n",
        "        print(f\"Base 10: {base_ten}\\n\\tHexadecimal: {base_hex}\")\n",
        "    #here hex converts a float into hexadecimal\n",
        "    elif base_ten == float(base_ten):\n",
        "        base_hex = float.hex(base_ten)\n",
        "        print(f\"Base 10: {base_ten}\\n\\tHexadecimal: {base_hex}\")\n",
        "\n",
        "convert_to_hex(225)\n",
        "convert_to_hex(666)\n",
        "convert_to_hex(175424)\n",
        "convert_to_hex(142)\n",
        "convert_to_hex(3.141579)\n",
        "convert_to_hex(17481.85)"
      ]
    },
    {
      "cell_type": "markdown",
      "source": [
        "#input()"
      ],
      "metadata": {
        "id": "fMrpnoQg2Cvn"
      }
    },
    {
      "cell_type": "code",
      "execution_count": null,
      "metadata": {
        "colab": {
          "base_uri": "https://localhost:8080/"
        },
        "id": "jnuSEeOH2Cvn",
        "outputId": "3a92338d-42d8-4643-e5a0-2d23b8e9272a"
      },
      "outputs": [
        {
          "output_type": "stream",
          "name": "stdout",
          "text": [
            "Please enter a name.\tLily\n",
            "Hello Lily! Nice to meet you!\n",
            "Please enter a name.\tOliver\n",
            "Hello Oliver! Nice to meet you!\n",
            "Please enter a name.\tKev\n",
            "Hello Kev! Nice to meet you!\n",
            "Please enter a name.\tLogan\n",
            "Hello Logan! Nice to meet you!\n"
          ]
        }
      ],
      "source": [
        "def greeting():\n",
        "    #input allows for user input to be taken and recorded as a variable\n",
        "    name = input(\"Please enter a name.\\t\")\n",
        "    print(f\"Hello {name}! Nice to meet you!\")\n",
        "\n",
        "greeting()\n",
        "greeting()\n",
        "greeting()\n",
        "greeting()"
      ]
    },
    {
      "cell_type": "markdown",
      "source": [
        "#int()"
      ],
      "metadata": {
        "id": "dAY9xtjq2C9w"
      }
    },
    {
      "cell_type": "code",
      "execution_count": null,
      "metadata": {
        "colab": {
          "base_uri": "https://localhost:8080/"
        },
        "id": "yB5sPtV02C9w",
        "outputId": "98fbcc72-8cdd-4ce6-b15d-1824511e5835"
      },
      "outputs": [
        {
          "output_type": "stream",
          "name": "stdout",
          "text": [
            "Hex: E3\n",
            "\tBase 10: 227\n",
            "Hex: 2B47\n",
            "\tBase 10: 11079\n",
            "Hex: 6A\n",
            "\tBase 10: 106\n",
            "Hex: F12\n",
            "\tBase 10: 3858\n"
          ]
        }
      ],
      "source": [
        "def hex_to_base_ten(hex):\n",
        "    #int is used to convert a value into an integer number\n",
        "    x = int(hex, 16)\n",
        "    print(f\"Hex: {hex}\\n\\tBase 10: {x}\")\n",
        "\n",
        "hex_to_base_ten(\"E3\")\n",
        "hex_to_base_ten(\"2B47\")\n",
        "hex_to_base_ten(\"6A\")\n",
        "hex_to_base_ten(\"F12\")"
      ]
    },
    {
      "cell_type": "markdown",
      "source": [
        "#len()"
      ],
      "metadata": {
        "id": "Rj3lK8ZH2DDt"
      }
    },
    {
      "cell_type": "code",
      "execution_count": null,
      "metadata": {
        "colab": {
          "base_uri": "https://localhost:8080/"
        },
        "id": "T1cY1fv72DDt",
        "outputId": "79121b4c-ad67-4e9c-bc27-678a6f6368a1"
      },
      "outputs": [
        {
          "output_type": "stream",
          "name": "stdout",
          "text": [
            "12\n"
          ]
        }
      ],
      "source": [
        "months = {\n",
        "    \"January\",\n",
        "    \"February\",\n",
        "    \"March\",\n",
        "    \"April\",\n",
        "    \"May\",\n",
        "    \"June\",\n",
        "    \"July\",\n",
        "    \"August\",\n",
        "    \"September\",\n",
        "    \"October\",\n",
        "    \"November\",\n",
        "    \"December\"\n",
        "}\n",
        "\n",
        "#len is used to return a number for how many items are in an object\n",
        "print(len(months))"
      ]
    },
    {
      "cell_type": "markdown",
      "source": [
        "#locals()"
      ],
      "metadata": {
        "id": "Tfnv4V6o2DKm"
      }
    },
    {
      "cell_type": "code",
      "execution_count": null,
      "metadata": {
        "colab": {
          "base_uri": "https://localhost:8080/"
        },
        "id": "cwDffsGt2DKm",
        "outputId": "45007dff-e560-4535-92fd-1be565cddd76"
      },
      "outputs": [
        {
          "output_type": "stream",
          "name": "stdout",
          "text": [
            "Random number: 10\n",
            "\tDict of locals: {}\n",
            "Random numbers: 4\n",
            "\tDict of locals: {'number_of_times': 5, 'rolls': [6, 2, 2, 11, 4], 'numbers': 4}\n"
          ]
        }
      ],
      "source": [
        "import random\n",
        "def give_number():\n",
        "    print(f\"Random number: {random.randint(1,11)}\\n\\tDict of locals: {locals()}\")\n",
        "\n",
        "# here local variables are present\n",
        "def give_number_with_locals(number_of_times):\n",
        "    rolls = []\n",
        "    for numbers in range(number_of_times):\n",
        "        rolls.append(random.randint(1,11))\n",
        "    #locals() is used to return a dictionary of current local objects\n",
        "    print(f\"Random numbers: {numbers}\\n\\tDict of locals: {locals()}\")\n",
        "\n",
        "# driver code\n",
        "give_number()\n",
        "give_number_with_locals(5)"
      ]
    },
    {
      "cell_type": "markdown",
      "source": [
        "#map()"
      ],
      "metadata": {
        "id": "2iUF6lQp2DQZ"
      }
    },
    {
      "cell_type": "code",
      "execution_count": null,
      "metadata": {
        "colab": {
          "base_uri": "https://localhost:8080/"
        },
        "id": "sqMoDvT12DQZ",
        "outputId": "e6092516-0344-45ed-ee54-714bf9cf92c5"
      },
      "outputs": [
        {
          "output_type": "stream",
          "name": "stdout",
          "text": [
            "[1, 4, 9, 16, 25, 36, 49, 64, 81, 100, 121, 144, 169, 196]\n"
          ]
        }
      ],
      "source": [
        "def square(n):\n",
        "    return n*n\n",
        "\n",
        "#map() is used to apply a function to an iteraror\n",
        "result = map(square, range(1,15))\n",
        "#had to be converted to a set to make sense of the data\n",
        "result = sorted(set(result))\n",
        "print(result)"
      ]
    },
    {
      "cell_type": "markdown",
      "source": [
        "#max()"
      ],
      "metadata": {
        "id": "CCvNY50e2DWA"
      }
    },
    {
      "cell_type": "code",
      "execution_count": null,
      "metadata": {
        "colab": {
          "base_uri": "https://localhost:8080/"
        },
        "id": "JKlcXVAK2DWB",
        "outputId": "38ebe272-94e5-431f-b6c3-0a21877ca95d"
      },
      "outputs": [
        {
          "output_type": "stream",
          "name": "stdout",
          "text": [
            "You rolled a d20. The results are [20, 7]\n",
            "\tWith advantage you rolled a 20\n",
            "\n",
            "You rolled a d100. The results are [63, 38]\n",
            "\tWith advantage you rolled a 63\n",
            "\n",
            "You rolled a d12. The results are [1, 2]\n",
            "\tWith advantage you rolled a 2\n",
            "\n",
            "You rolled a d6. The results are [2, 4]\n",
            "\tWith advantage you rolled a 4\n",
            "\n"
          ]
        }
      ],
      "source": [
        "import random\n",
        "def advantage(sides):\n",
        "    rolls = []\n",
        "    for roll in range(2):\n",
        "        value = random.randint(1, sides)\n",
        "        rolls.append(value)\n",
        "    print(f\"You rolled a d{sides}. The results are {rolls}\")\n",
        "    #max is used to find the highest value in an iterable\n",
        "    outcome = (max(rolls))\n",
        "    print(f\"\\tWith advantage you rolled a {outcome}\\n\")\n",
        "\n",
        "advantage(20)\n",
        "advantage(100)\n",
        "advantage(12)\n",
        "advantage(6)"
      ]
    },
    {
      "cell_type": "markdown",
      "source": [
        "#min()"
      ],
      "metadata": {
        "id": "XYkVhjjd2Db_"
      }
    },
    {
      "cell_type": "code",
      "execution_count": null,
      "metadata": {
        "colab": {
          "base_uri": "https://localhost:8080/"
        },
        "id": "4QQYTZ622Db_",
        "outputId": "75a05221-92d9-4d41-ec91-7da1ec8064e8"
      },
      "outputs": [
        {
          "output_type": "stream",
          "name": "stdout",
          "text": [
            "You rolled a d20. The results are: [2, 3]\n",
            "\tWith disadvantage you rolled a 2\n",
            "\n",
            "You rolled a d100. The results are: [98, 55]\n",
            "\tWith disadvantage you rolled a 55\n",
            "\n",
            "You rolled a d12. The results are: [11, 10]\n",
            "\tWith disadvantage you rolled a 10\n",
            "\n",
            "You rolled a d6. The results are: [4, 3]\n",
            "\tWith disadvantage you rolled a 3\n",
            "\n"
          ]
        }
      ],
      "source": [
        "import random\n",
        "def disadvantage(sides):\n",
        "    rolls = []\n",
        "    for roll in range(2):\n",
        "        value = random.randint(1, sides)\n",
        "        rolls.append(value)\n",
        "    print(f\"You rolled a d{sides}. The results are: {rolls}\")\n",
        "    #min is used to find the lowest value in an iterable\n",
        "    outcome = (min(rolls))\n",
        "    print(f\"\\tWith disadvantage you rolled a {outcome}\\n\")\n",
        "\n",
        "disadvantage(20)\n",
        "disadvantage(100)\n",
        "disadvantage(12)\n",
        "disadvantage(6)"
      ]
    },
    {
      "cell_type": "markdown",
      "source": [
        "#oct()"
      ],
      "metadata": {
        "id": "GEUVPp0v2Dhx"
      }
    },
    {
      "cell_type": "code",
      "execution_count": null,
      "metadata": {
        "colab": {
          "base_uri": "https://localhost:8080/"
        },
        "id": "UW9v9SOO2Dhx",
        "outputId": "ac144d9c-bb79-47fd-c91b-f1d0781cdeb9"
      },
      "outputs": [
        {
          "output_type": "stream",
          "name": "stdout",
          "text": [
            "Decimal: 14\n",
            "\tBinary: 0b1110\n",
            "\tHexadecimal: 0xe\n",
            "\tOctal Decimal: 0o16\n",
            "\n",
            "Decimal: 9999\n",
            "\tBinary: 0b10011100001111\n",
            "\tHexadecimal: 0x270f\n",
            "\tOctal Decimal: 0o23417\n",
            "\n",
            "Decimal: 1257\n",
            "\tBinary: 0b10011101001\n",
            "\tHexadecimal: 0x4e9\n",
            "\tOctal Decimal: 0o2351\n",
            "\n",
            "Decimal: 255\n",
            "\tBinary: 0b11111111\n",
            "\tHexadecimal: 0xff\n",
            "\tOctal Decimal: 0o377\n",
            "\n"
          ]
        }
      ],
      "source": [
        "def converter(base_ten):\n",
        "    b = binary(base_ten)\n",
        "    h = hexadecimal(base_ten)\n",
        "    o = octal_decimal(base_ten)\n",
        "    print(f\"Decimal: {base_ten}{b}{h}{o}\\n\")\n",
        "\n",
        "def octal_decimal(base_ten):\n",
        "    #oct() is used to convert an integer into octal decimal\n",
        "    octal = oct(base_ten)\n",
        "    return f\"\\n\\tOctal Decimal: {octal}\"\n",
        "\n",
        "def hexadecimal(base_ten):\n",
        "    hexa = hex(base_ten)\n",
        "    return f\"\\n\\tHexadecimal: {hexa}\"\n",
        "\n",
        "def binary(base_ten):\n",
        "    binary = bin(base_ten)\n",
        "    return f\"\\n\\tBinary: {binary}\"\n",
        "\n",
        "converter(14)\n",
        "converter(9999)\n",
        "converter(1257)\n",
        "converter(255)"
      ]
    },
    {
      "cell_type": "markdown",
      "source": [
        "#print()"
      ],
      "metadata": {
        "id": "XBv5PuDM2Dnp"
      }
    },
    {
      "cell_type": "code",
      "execution_count": null,
      "metadata": {
        "colab": {
          "base_uri": "https://localhost:8080/"
        },
        "id": "05n55DJl2Dnp",
        "outputId": "632ca502-5538-4e99-8b74-c3438e423840"
      },
      "outputs": [
        {
          "output_type": "stream",
          "name": "stdout",
          "text": [
            "1\n",
            "2\n",
            "3\n",
            "4\n",
            "5\n",
            "6\n",
            "7\n",
            "8\n",
            "9\n",
            "10\n",
            "11\n",
            "12\n",
            "13\n",
            "14\n",
            "15\n"
          ]
        }
      ],
      "source": [
        "for number in range(1,16):\n",
        "    #print sends a command to have what's printed in the Parentheses to the termanal\n",
        "    print(number)"
      ]
    },
    {
      "cell_type": "markdown",
      "source": [
        "#range()"
      ],
      "metadata": {
        "id": "7CleWeAv2Dt6"
      }
    },
    {
      "cell_type": "code",
      "execution_count": null,
      "metadata": {
        "colab": {
          "base_uri": "https://localhost:8080/"
        },
        "id": "OxE6uJA52Dt7",
        "outputId": "982df4d5-0ebe-4e65-a6ca-6fa55b08be8a"
      },
      "outputs": [
        {
          "output_type": "stream",
          "name": "stdout",
          "text": [
            "1: 25\n",
            "2: 74\n",
            "3: 100\n",
            "4: 33\n",
            "5: 25\n",
            "6: 73\n",
            "7: 26\n",
            "8: 95\n",
            "9: 26\n",
            "10: 42\n"
          ]
        }
      ],
      "source": [
        "import random\n",
        "#range is used to return a sequence of numbers starting with thh first parameter\n",
        "#and  ending with the number prior to the second parameter\n",
        "for number in range (1,11):\n",
        "    print(f\"{number}: {random.randint(1,100)}\")"
      ]
    },
    {
      "cell_type": "markdown",
      "source": [
        "#reversed()"
      ],
      "metadata": {
        "id": "9ET07lGp2Dzl"
      }
    },
    {
      "cell_type": "code",
      "execution_count": null,
      "metadata": {
        "colab": {
          "base_uri": "https://localhost:8080/"
        },
        "id": "d55A9Wdu2Dzl",
        "outputId": "f8d78ebb-8701-4518-a29a-431728e5586b"
      },
      "outputs": [
        {
          "output_type": "stream",
          "name": "stdout",
          "text": [
            "{'Thursday', 'Wednesday', 'Saturday', 'Monday', 'Sunday', 'Tuesday', 'Friday'}\n",
            "\n",
            "10\n",
            "9\n",
            "8\n",
            "7\n",
            "6\n",
            "5\n",
            "4\n",
            "3\n",
            "2\n",
            "1\n"
          ]
        }
      ],
      "source": [
        "days = {\n",
        "    \"Monday\",\n",
        "    \"Tuesday\",\n",
        "    \"Wednesday\",\n",
        "    \"Thursday\",\n",
        "    \"Friday\",\n",
        "    \"Saturday\",\n",
        "    \"Sunday\"\n",
        "}\n",
        "#reversed() returns the opposite iteration of how it would normaly be done\n",
        "days = (reversed(sorted(days)))\n",
        "days = set(days)\n",
        "print(f\"{days}\\n\")\n",
        "\n",
        "for i in reversed(range(1,11)):\n",
        "    print(i)"
      ]
    },
    {
      "cell_type": "markdown",
      "source": [
        "#round()"
      ],
      "metadata": {
        "id": "vWav9n-s2D5u"
      }
    },
    {
      "cell_type": "code",
      "execution_count": 132,
      "metadata": {
        "colab": {
          "base_uri": "https://localhost:8080/"
        },
        "id": "3rhKGEu-2D5v",
        "outputId": "36dc58ea-33f6-4170-9e7a-22420347b28b"
      },
      "outputs": [
        {
          "output_type": "stream",
          "name": "stdout",
          "text": [
            "10.53061224489796 rounded to 11\n",
            "5.729602852578274 rounded to 6\n",
            "22.707034728406054 rounded to 23\n"
          ]
        }
      ],
      "source": [
        "def division_calc(x, y):\n",
        "    return x / y\n",
        "\n",
        "def rounding_calc(x,y):\n",
        "    value = division_calc(x,y)\n",
        "    #ound() takes 2 numbers and returns the value rounded to the nearest digit\n",
        "    print(f\"{value} rounded to {round(value)}\")\n",
        "\n",
        "rounding_calc(258, 24.5)\n",
        "rounding_calc(18, 3.141579)\n",
        "rounding_calc(255, 11.23)"
      ]
    },
    {
      "cell_type": "markdown",
      "source": [
        "#set()"
      ],
      "metadata": {
        "id": "JdZvUkC42D_r"
      }
    },
    {
      "cell_type": "code",
      "execution_count": 141,
      "metadata": {
        "id": "abzpd_cm2D_r",
        "colab": {
          "base_uri": "https://localhost:8080/"
        },
        "outputId": "1ea26485-82ee-4d0f-beb1-bb621690b2f3"
      },
      "outputs": [
        {
          "output_type": "stream",
          "name": "stdout",
          "text": [
            "Food in pantry {'Milk', 'Eggs', 'Waffles', 'Butter', 'Strawberies', 'Bread'}\n",
            "We ran out of Milk today :(\n",
            "We ran out of Eggs today :(\n",
            "We ran out of Waffles today :(\n",
            "We ran out of Butter today :(\n",
            "We ran out of Strawberies today :(\n",
            "We ran out of Bread today :(\n",
            "We have run out of everything.\n"
          ]
        }
      ],
      "source": [
        "#set() stores a collection of objects that are unordered\n",
        "pantry = {\"Butter\", \"Milk\", \"Eggs\", \"Waffles\", \"Strawberies\"}\n",
        "#the .add() method adds an object to the set\n",
        "pantry.add(\"Bread\")\n",
        "print(\"Food in pantry\", pantry)\n",
        "while len(pantry) > 0:\n",
        "    #the .pop() method removes and stores the object seperatly\n",
        "    out = pantry.pop()\n",
        "    print(f\"We ran out of {out} today :(\")\n",
        "print(\"We have run out of everything.\")"
      ]
    },
    {
      "cell_type": "markdown",
      "source": [
        "#sorted()"
      ],
      "metadata": {
        "id": "rebqGItd2EFc"
      }
    },
    {
      "cell_type": "code",
      "execution_count": 146,
      "metadata": {
        "id": "1ren8txx2EFc",
        "colab": {
          "base_uri": "https://localhost:8080/"
        },
        "outputId": "2974fc74-973e-42b3-ba48-516e5e622745"
      },
      "outputs": [
        {
          "output_type": "stream",
          "name": "stdout",
          "text": [
            "1: Caffeine Free Coca-Cola\n",
            "2: Coca-Cola Cherry\n",
            "3: Coca-Cola Cherry Vanilla\n",
            "4: Coca-Cola Citra\n",
            "5: Coca-Cola Lime\n",
            "6: Coca-Cola Mango\n",
            "7: Coca-Cola Spiced\n",
            "8: Coca-Cola Vanilla\n",
            "9: Coca-Cola Zero Sugar\n",
            "10: Diet Coke\n",
            "11: Diet Coke Caffeine Free\n"
          ]
        }
      ],
      "source": [
        "coke_flavors = {\n",
        "    \"Diet Coke\",\n",
        "    \"Diet Coke Caffeine Free\",\n",
        "    \"Caffeine Free Coca-Cola\",\n",
        "    \"Coca-Cola Zero Sugar\",\n",
        "    \"Coca-Cola Cherry\",\n",
        "    \"Coca-Cola Vanilla\",\n",
        "    \"Coca-Cola Cherry Vanilla\",\n",
        "    \"Coca-Cola Citra\",\n",
        "    \"Coca-Cola Lime\",\n",
        "    \"Coca-Cola Mango\",\n",
        "    \"Coca-Cola Spiced\"\n",
        "}\n",
        "count = 1\n",
        "#sorted() sorts the collection into a sorted list either alphabetically\n",
        "#or numerically\n",
        "for flavor in sorted(coke_flavors):\n",
        "    print(f\"{count}: {flavor}\")\n",
        "    count += 1"
      ]
    },
    {
      "cell_type": "markdown",
      "source": [
        "#str()"
      ],
      "metadata": {
        "id": "TEHq-Vve2ELr"
      }
    },
    {
      "cell_type": "code",
      "execution_count": 151,
      "metadata": {
        "id": "fuVacW362ELr",
        "colab": {
          "base_uri": "https://localhost:8080/"
        },
        "outputId": "9ba765dc-891b-41c0-af3c-bd7ba0bd4808"
      },
      "outputs": [
        {
          "output_type": "stream",
          "name": "stdout",
          "text": [
            "['1', '15', '4', 'six', 'twenty']\n"
          ]
        }
      ],
      "source": [
        "mix_of_numbers = {\n",
        "    4,\n",
        "    1,\n",
        "    \"six\",\n",
        "    15,\n",
        "    \"twenty\"\n",
        "}\n",
        "\n",
        "for value in mix_of_numbers:\n",
        "    try:\n",
        "        value == int(value)\n",
        "        mix_of_numbers.remove(value)\n",
        "        #str() converts the value to a string\n",
        "        #in this case so that the set mix_of_numbers can be sorted\n",
        "        #because ints and str can't be sorted together\n",
        "        new_value = str(value)\n",
        "        mix_of_numbers.add(new_value)\n",
        "    except:\n",
        "        ValueError\n",
        "        pass\n",
        "print(sorted(mix_of_numbers))"
      ]
    },
    {
      "cell_type": "markdown",
      "source": [
        "#sum()"
      ],
      "metadata": {
        "id": "xDaJUE1R2ERt"
      }
    },
    {
      "cell_type": "code",
      "execution_count": 155,
      "metadata": {
        "id": "sDz7NlE52ERt",
        "colab": {
          "base_uri": "https://localhost:8080/"
        },
        "outputId": "8867fdeb-fbdf-44ac-ce6e-b9128c7abe8a"
      },
      "outputs": [
        {
          "output_type": "stream",
          "name": "stdout",
          "text": [
            "The numbers [70, 78, 30, 66] added together is 244\n",
            "\n",
            "The numbers [84, 58, 5, 41, 73] added together is 261\n",
            "\n",
            "The numbers [14, 5] added together is 19\n",
            "\n",
            "The numbers [99, 9, 14] added together is 122\n",
            "\n"
          ]
        }
      ],
      "source": [
        "from random import randint\n",
        "def random_num_added(number):\n",
        "    numbers = []\n",
        "    loop = 0\n",
        "    while loop < number:\n",
        "        numbers.append(randint(1,100))\n",
        "        loop += 1\n",
        "    #sum() adds all the numbers in a collection and returns the sum\n",
        "    print(f\"The numbers {numbers} added together is {sum(numbers)}\\n\")\n",
        "\n",
        "random_num_added(4)\n",
        "random_num_added(5)\n",
        "random_num_added(2)\n",
        "random_num_added(3)"
      ]
    },
    {
      "cell_type": "markdown",
      "source": [
        "#type()"
      ],
      "metadata": {
        "id": "RHv4imXl2EXY"
      }
    },
    {
      "cell_type": "code",
      "execution_count": 172,
      "metadata": {
        "id": "1wHKCRMl2EXY",
        "colab": {
          "base_uri": "https://localhost:8080/"
        },
        "outputId": "0d420a3a-53b5-4c2a-ff5b-f1fa92adf5ca"
      },
      "outputs": [
        {
          "output_type": "stream",
          "name": "stdout",
          "text": [
            "objects and their types:\n",
            "\tmovies: <class 'dict'>\n",
            "\tfave_numbers: <class 'tuple'>\n",
            "\tfruit: <class 'list'>\n",
            "\tstring: <class 'str'>\n",
            "\tnum: <class 'int'>\n"
          ]
        }
      ],
      "source": [
        "movies = {\"Revenge of the Sith\": \"Star Wars\",\n",
        "        \"Lower Decks\": \"Star Trek\"}\n",
        "fave_numbers = (7, 13, 27)\n",
        "fruit = [\"Apple\", \"Honeydew\", \"Watermelon\", \"Strawberies\"]\n",
        "string = \"Hello World\"\n",
        "num = 33\n",
        "\n",
        "#type() returns the type of object the object listed as an argument is\n",
        "message = (f\"objects and their types:\\n\\tmovies: {type(movies)}\\n\\t\")\n",
        "message += (f\"fave_numbers: {type(fave_numbers)}\\n\\t\")\n",
        "message += (f\"fruit: {type(fruit)}\\n\\t\")\n",
        "message += (f\"string: {type(string)}\\n\\t\")\n",
        "message += (f\"num: {type(num)}\")\n",
        "print(message)"
      ]
    }
  ]
}