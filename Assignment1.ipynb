{
  "nbformat": 4,
  "nbformat_minor": 0,
  "metadata": {
    "colab": {
      "provenance": [],
      "authorship_tag": "ABX9TyM14W8IjcwZahoDbwdLJpm5",
      "include_colab_link": true
    },
    "kernelspec": {
      "name": "python3",
      "display_name": "Python 3"
    },
    "language_info": {
      "name": "python"
    }
  },
  "cells": [
    {
      "cell_type": "markdown",
      "metadata": {
        "id": "view-in-github",
        "colab_type": "text"
      },
      "source": [
        "<a href=\"https://colab.research.google.com/github/Lily-Derusso/CSC221_jderu004/blob/main/Assignment1.ipynb\" target=\"_parent\"><img src=\"https://colab.research.google.com/assets/colab-badge.svg\" alt=\"Open In Colab\"/></a>"
      ]
    },
    {
      "cell_type": "code",
      "execution_count": 1,
      "metadata": {
        "colab": {
          "base_uri": "https://localhost:8080/"
        },
        "id": "l39F1AWrdL-d",
        "outputId": "a1f227c7-c8e0-4100-f6e5-6562fcc5911f"
      },
      "outputs": [
        {
          "output_type": "stream",
          "name": "stdout",
          "text": [
            "Lily\n",
            "Hello  Lily\n"
          ]
        }
      ],
      "source": [
        "name= input()\n",
        "print('Hello ',name)"
      ]
    },
    {
      "cell_type": "code",
      "source": [
        "number_of_times = 0\n",
        "while number_of_times < 3:\n",
        "  print(\"Yahoo, Great Job!\")\n",
        "  number_of_times +=1"
      ],
      "metadata": {
        "colab": {
          "base_uri": "https://localhost:8080/"
        },
        "id": "th44buc6ZTNg",
        "outputId": "ef573218-22f0-4467-e64e-fa0f0e28780c"
      },
      "execution_count": 1,
      "outputs": [
        {
          "output_type": "stream",
          "name": "stdout",
          "text": [
            "Yahoo, Great Job!\n",
            "Yahoo, Great Job!\n",
            "Yahoo, Great Job!\n"
          ]
        }
      ]
    },
    {
      "cell_type": "code",
      "source": [
        "number = 50\n",
        "number_of_times = 0\n",
        "sum = 0\n",
        "while number_of_times < 651:\n",
        "  sum += number\n",
        "  number_of_times +=1\n",
        "  number +=1\n",
        "\n",
        "print(sum)"
      ],
      "metadata": {
        "colab": {
          "base_uri": "https://localhost:8080/"
        },
        "id": "ox-N00Ox92jO",
        "outputId": "1948d51d-9ed3-4578-90f6-7dd847641960"
      },
      "execution_count": 109,
      "outputs": [
        {
          "output_type": "stream",
          "name": "stdout",
          "text": [
            "244125\n"
          ]
        }
      ]
    },
    {
      "cell_type": "code",
      "source": [
        "number_of_times = 50\n",
        "x = number_of_times\n",
        "y = 51\n",
        "\n",
        "while number_of_times < 55:\n",
        "    z = number_of_times + y\n",
        "    number_of_times += 1\n",
        "    x = number_of_times\n",
        "    y = z + number_of_times\n",
        "    number_of_times += 1\n",
        "    x = number_of_times\n",
        "    #z = x +  y\n",
        "    #number_of_times += 1\n",
        "\n",
        "    print(z, number_of_times)\n",
        "    print(y, number_of_times)\n",
        "    #print(x, number_of_times)\n",
        "\n",
        "#answer is 244,125\n",
        "    #50,101,153,206,260,"
      ],
      "metadata": {
        "colab": {
          "base_uri": "https://localhost:8080/"
        },
        "id": "41sgMoaQZXSs",
        "outputId": "81812b8d-0be4-4e02-a405-f8ce7c7b4d76"
      },
      "execution_count": 106,
      "outputs": [
        {
          "output_type": "stream",
          "name": "stdout",
          "text": [
            "101 52\n",
            "152 52\n",
            "204 54\n",
            "257 54\n",
            "311 56\n",
            "366 56\n"
          ]
        }
      ]
    }
  ]
}