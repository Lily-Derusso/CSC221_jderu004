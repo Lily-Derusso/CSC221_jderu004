{
  "nbformat": 4,
  "nbformat_minor": 0,
  "metadata": {
    "colab": {
      "provenance": [],
      "authorship_tag": "ABX9TyM9RD76lNnTO+w9UgZ1Mg1z",
      "include_colab_link": true
    },
    "kernelspec": {
      "name": "python3",
      "display_name": "Python 3"
    },
    "language_info": {
      "name": "python"
    }
  },
  "cells": [
    {
      "cell_type": "markdown",
      "metadata": {
        "id": "view-in-github",
        "colab_type": "text"
      },
      "source": [
        "<a href=\"https://colab.research.google.com/github/Lily-Derusso/CSC221_jderu004/blob/main/Assignment9_10.ipynb\" target=\"_parent\"><img src=\"https://colab.research.google.com/assets/colab-badge.svg\" alt=\"Open In Colab\"/></a>"
      ]
    },
    {
      "cell_type": "markdown",
      "source": [
        "#Guidelines"
      ],
      "metadata": {
        "id": "rXgb4JUzGnO8"
      }
    },
    {
      "cell_type": "code",
      "execution_count": null,
      "metadata": {
        "id": "bBYDVfTQ2XaE"
      },
      "outputs": [],
      "source": [
        "'''\n",
        "1) The functions should come from books you have read or courses you have personally taken in the past.\n",
        "    1) Examples: algebra, physics, chemistry, Intro CS courses, other areas in which you are interested\n",
        "    2) Functions take some set of inputs and compute some set of outputs... think about what you have done or seen that falls into this category.\n",
        "    3) BE CREATIVE! It's worth five points!\n",
        "\n",
        "2) Create and test TEN functions of your choosing as follows:\n",
        "    1) Each function should accept some number of input parameters and return some calculated value.\n",
        "    2) At least one should take text as an input.\n",
        "    3) At least one should take a variable number of arguments as an input.\n",
        "    4) At least one should return multiple items.\n",
        "    5) At least one should use sorting.\n",
        "    6) At least one should use a dictionary.\n",
        "    7) At least one should solve a puzzle by guessing and checking.\n",
        "    8) At least one should perform some tricky mathematical computation.\n",
        "    9) Three others as you like! Impress me!\n",
        "\n",
        "3) Each function should consist of 3 Colab cells.\n",
        "    1) A Colab Text cell describing the function and what it is supposed to do\n",
        "    2) A Colab Code cell containing the function itself with meaningful comments and a docstring\n",
        "    3) A Colab Code cell containing adequate test cases including assert statements to demonstrate that the function works\n",
        "'''"
      ]
    },
    {
      "cell_type": "markdown",
      "source": [
        "#Function One: Text\n",
        "- takes text as an input\n",
        "- generates a greeting given a name, country and city"
      ],
      "metadata": {
        "id": "CbiJ4E4C3wJ5"
      }
    },
    {
      "cell_type": "code",
      "source": [
        "#Code cell\n",
        "def welcome(name, country, city):\n",
        "    '''takes 3 arguments. name, country and city. returns a greeting'''\n",
        "    greeting = (f\"Welcome to {country.title()} {name.title()}!\")\n",
        "    greeting += (f\" You are in the city of {city.title()}.\")\n",
        "    return greeting"
      ],
      "metadata": {
        "id": "izA3gkDj330f"
      },
      "execution_count": 1,
      "outputs": []
    },
    {
      "cell_type": "code",
      "source": [
        "#Test cell\n",
        "print(welcome('lily', 'italy', 'rome'))\n",
        "print(welcome('steve', 'canada', 'montreal'))\n",
        "print(welcome(country = 'france', city = 'paris', name = 'jeff'))"
      ],
      "metadata": {
        "colab": {
          "base_uri": "https://localhost:8080/"
        },
        "id": "0_ZPqapf33aJ",
        "outputId": "605f98e6-9d4c-492d-b15d-caa25ba130b5"
      },
      "execution_count": 2,
      "outputs": [
        {
          "output_type": "stream",
          "name": "stdout",
          "text": [
            "Welcome to Italy Lily! You are in the city of Rome.\n",
            "Welcome to Canada Steve! You are in the city of Montreal.\n",
            "Welcome to France Jeff! You are in the city of Paris.\n"
          ]
        }
      ]
    },
    {
      "cell_type": "markdown",
      "source": [
        "#Function two: Variable number of inputs\n",
        "- takes a variable number of arguments as an input\n",
        "-animal name, type and age(optional) taken as args and printed in an introduction sentence"
      ],
      "metadata": {
        "id": "Q_vQ1xRK347K"
      }
    },
    {
      "cell_type": "code",
      "source": [
        "#code cell\n",
        "def animal(name, animal_type, age = \"an unknown amount of\"):\n",
        "    '''takes name, animal_type and age (optionally) as args. prints a sentence\n",
        "    with all args in it. default fo age is \"an unknown amount of\".'''\n",
        "    print(f\"{name.title()} is a {animal_type} who is {age} years old.\")\n"
      ],
      "metadata": {
        "id": "n4WsT8-M4AGz"
      },
      "execution_count": 7,
      "outputs": []
    },
    {
      "cell_type": "code",
      "source": [
        "#test cell\n",
        "animal(\"bucky\", \"duck\", 12)\n",
        "animal(\"leonardo\", \"turtle\")\n",
        "animal(animal_type = \"groundhog\", age = 13, name = \"phyll\")"
      ],
      "metadata": {
        "colab": {
          "base_uri": "https://localhost:8080/"
        },
        "id": "vFwoIht43_69",
        "outputId": "7f2a2e50-4e43-45e5-b69b-803d231c3685"
      },
      "execution_count": 6,
      "outputs": [
        {
          "output_type": "stream",
          "name": "stdout",
          "text": [
            "Bucky is a duck who is 12 years old.\n",
            "Leonardo is a turtle who is an unknown amount of years old.\n",
            "Phyll is a groundhog who is 13 years old.\n"
          ]
        }
      ]
    },
    {
      "cell_type": "markdown",
      "source": [
        "#Function three: Multiple returns\n",
        "- returns multiple items\n",
        "returns x, y and result of x to the power of y\n"
      ],
      "metadata": {
        "id": "ZjQ0DnhK4A-8"
      }
    },
    {
      "cell_type": "code",
      "source": [
        "#code cell\n",
        "def power_of(x, y):\n",
        "    '''takes the integers x and y. returns x and y as well as the result of x to\n",
        "    the power of y '''\n",
        "    answer = x ** y\n",
        "    return (f\"{x} to the power of {y} is {answer}\")"
      ],
      "metadata": {
        "id": "WY9AmI4p4DT5"
      },
      "execution_count": 20,
      "outputs": []
    },
    {
      "cell_type": "code",
      "source": [
        "#test cell\n",
        "print(power_of(2, 5))\n",
        "print(power_of(15, 5))\n",
        "print(power_of(-10, 5))\n",
        "print(power_of(300, 0))\n",
        "print(power_of(-2, -4))"
      ],
      "metadata": {
        "colab": {
          "base_uri": "https://localhost:8080/"
        },
        "id": "qWgv6IXq4Dqm",
        "outputId": "f0f32c41-fa7a-490a-88a4-de0fbb061a51"
      },
      "execution_count": 24,
      "outputs": [
        {
          "output_type": "stream",
          "name": "stdout",
          "text": [
            "2 to the power of 5 is 32\n",
            "15 to the power of 5 is 759375\n",
            "-10 to the power of 5 is -100000\n",
            "300 to the power of 0 is 1\n",
            "-2 to the power of -4 is 0.0625\n"
          ]
        }
      ]
    },
    {
      "cell_type": "markdown",
      "source": [
        "#Function four: Sorting\n",
        "- uses sorting\n",
        "-creates and maintains a sorted list that can accept 1 or no args"
      ],
      "metadata": {
        "id": "2Yjor4xv4ErG"
      }
    },
    {
      "cell_type": "code",
      "source": [
        "#code cell\n",
        "#class list origional\n",
        "class_list= [\"luke\", \"anikin\", \"leia\", \"bail\", \"yoda\", \"kenobi\"]\n",
        "\n",
        "def add_and_sort_students(name = \"\"):\n",
        "    '''can accept a name and add to the class list then sorts and prints the\n",
        "    list. if no arg given will print up to date list instead'''\n",
        "    class_list_title = []\n",
        "    global class_list   #calling on global var\n",
        "    class_list.append(name)\n",
        "    for person in class_list:   #for each name on the list the function will\n",
        "        if person == \"\":        #check if the name is blank, if so it will del\n",
        "            del person          #it. then the names are sorted and printed back\n",
        "        else:\n",
        "            person = person.title()\n",
        "            class_list_title.append(person)\n",
        "    print(sorted(class_list_title))"
      ],
      "metadata": {
        "id": "t_TcdBa74Gz9"
      },
      "execution_count": 43,
      "outputs": []
    },
    {
      "cell_type": "code",
      "source": [
        "#test cell\n",
        "add_and_sort_students(\"r2d2\")\n",
        "add_and_sort_students(\"c3po\")\n",
        "add_and_sort_students(\"rex\")\n",
        "add_and_sort_students(\"ig-88\")\n",
        "add_and_sort_students()"
      ],
      "metadata": {
        "colab": {
          "base_uri": "https://localhost:8080/"
        },
        "id": "8PuqHc-e4HKF",
        "outputId": "080f0568-ae25-473c-d210-9717b2420028"
      },
      "execution_count": 44,
      "outputs": [
        {
          "output_type": "stream",
          "name": "stdout",
          "text": [
            "['Anikin', 'Bail', 'Kenobi', 'Leia', 'Luke', 'R2D2', 'Yoda']\n",
            "['Anikin', 'Bail', 'C3Po', 'Kenobi', 'Leia', 'Luke', 'R2D2', 'Yoda']\n",
            "['Anikin', 'Bail', 'C3Po', 'Kenobi', 'Leia', 'Luke', 'R2D2', 'Rex', 'Yoda']\n",
            "['Anikin', 'Bail', 'C3Po', 'Ig-88', 'Kenobi', 'Leia', 'Luke', 'R2D2', 'Rex', 'Yoda']\n",
            "['Anikin', 'Bail', 'C3Po', 'Ig-88', 'Kenobi', 'Leia', 'Luke', 'R2D2', 'Rex', 'Yoda']\n"
          ]
        }
      ]
    },
    {
      "cell_type": "markdown",
      "source": [
        "#Function five: Dictionary\n",
        "- uses a dictionary\n",
        "-dictionary is called and contents listed"
      ],
      "metadata": {
        "id": "t9whxLBy4IGN"
      }
    },
    {
      "cell_type": "code",
      "source": [
        "#code cell\n",
        "factions = {\n",
        "    \"Atreides\": \"Paul\",\n",
        "    \"Fremen\" : \"Chani\",\n",
        "    }\n",
        "\n",
        "def show_factions(factions):\n",
        "    '''takes arg \"factions\" which is a dictionary. prints the contents of the\n",
        "    dictionary.'''\n",
        "    for key in factions:\n",
        "        print(key, \"faction. A member is \", factions[key])"
      ],
      "metadata": {
        "id": "JkCcT_NY4Jsw"
      },
      "execution_count": 23,
      "outputs": []
    },
    {
      "cell_type": "code",
      "source": [
        "#test cell\n",
        "show_factions(factions)\n",
        "print()\n",
        "factions[\"Harkonnen\"] = \"Vladimir\"\n",
        "show_factions(factions)\n"
      ],
      "metadata": {
        "colab": {
          "base_uri": "https://localhost:8080/"
        },
        "id": "mmJvk8WT4KCq",
        "outputId": "6f884a98-12ce-4e3b-e585-31238bca0ec5"
      },
      "execution_count": 24,
      "outputs": [
        {
          "output_type": "stream",
          "name": "stdout",
          "text": [
            "Atreides faction. A member is  Paul\n",
            "Fremen faction. A member is  Chani\n",
            "\n",
            "Atreides faction. A member is  Paul\n",
            "Fremen faction. A member is  Chani\n",
            "Harkonnen faction. A member is  Vladimir\n"
          ]
        }
      ]
    },
    {
      "cell_type": "markdown",
      "source": [
        "#Function six: Guess and check puzzle\n",
        "- solves a puzzle by guessing and checking\n",
        "-code is called to find the number of 6 digit palindromes and prints the first 10\n"
      ],
      "metadata": {
        "id": "JN3T46hs4LBf"
      }
    },
    {
      "cell_type": "code",
      "source": [
        "#code cell\n",
        "def seperate_digits(n):\n",
        "    '''seperates a 6 digit number into each of its numbers'''\n",
        "    digit1 = int(n / 100000)\n",
        "    digit2 = int(n / 10000) % 10\n",
        "    digit3 = int(n / 1000) % 10\n",
        "    digit4 = int(n / 100) % 10\n",
        "    digit5 = int(n / 10) % 10\n",
        "    digit6 = int(n / 1) % 10\n",
        "    return digit1, digit2, digit3, digit4, digit5, digit6\n",
        "\n",
        "def find_num():\n",
        "    '''finds how many numbers between 100,000 and 1,000,000 are palindromes and\n",
        "    prints the first 10'''\n",
        "    count = 0\n",
        "    for i in range(100000, 1000000):\n",
        "        d1, d2, d3, d4, d5, d6 = seperate_digits(i)\n",
        "        if d1 == d6 and d2 == d5 and d3 ==d4:\n",
        "            count += 1\n",
        "            if count < 11:\n",
        "                print(i)\n",
        "    return count"
      ],
      "metadata": {
        "id": "eyXgQP6m4Mdo"
      },
      "execution_count": 14,
      "outputs": []
    },
    {
      "cell_type": "code",
      "source": [
        "#test cell\n",
        "print(seperate_digits(174592))\n",
        "print(seperate_digits(845917))\n",
        "\n",
        "n = find_num()\n",
        "print(f\"There are {n} 6 digit numbers that are read the same forwards and backwards\")\n"
      ],
      "metadata": {
        "colab": {
          "base_uri": "https://localhost:8080/"
        },
        "id": "YBB4oISR4Myu",
        "outputId": "8e4cc693-a5be-4a7d-d01a-50ad57fd1d77"
      },
      "execution_count": 17,
      "outputs": [
        {
          "output_type": "stream",
          "name": "stdout",
          "text": [
            "(1, 7, 4, 5, 9, 2)\n",
            "(8, 4, 5, 9, 1, 7)\n",
            "100001\n",
            "101101\n",
            "102201\n",
            "103301\n",
            "104401\n",
            "105501\n",
            "106601\n",
            "107701\n",
            "108801\n",
            "109901\n",
            "There are 900 6 digit numbers that are read the same forwards and backwards\n"
          ]
        }
      ]
    },
    {
      "cell_type": "markdown",
      "source": [
        "#Function seven: Quadradic equasion\n",
        "- performs some tricky mathematical computation\n",
        "-quadradic equasion"
      ],
      "metadata": {
        "id": "uKJDY_d84O8Y"
      }
    },
    {
      "cell_type": "code",
      "source": [
        "#code cell\n",
        "import math\n",
        "import cmath\n",
        "\n",
        "def quadratic_equasion(a = 1, b = 0, c = 0):\n",
        "    '''takes args 'a', 'b' and 'c'. All args are optional. calculates x in the\n",
        "    quadradic equasion'''\n",
        "    if a == 0: #The var 'a' in the quadradic equasion can't be 0\n",
        "      print(\"The 'A' varable can not be zero. Try again.\")\n",
        "\n",
        "    elif a < 0 and b < 0 and c < 0 or a < 0 and c < 0: #Having negitives makes\n",
        "        x_pos = (-b + cmath.sqrt(b**2 - 4 * a * c)) #the math.sqrt crash so we\n",
        "        x_pos = x_pos / (2*a)                       #use cmath.sqrt for these\n",
        "\n",
        "        x_neg = (-b - cmath.sqrt(b**2 - 4 * a * c))\n",
        "        x_neg = x_neg / (2*a)\n",
        "\n",
        "        print(f\"The answers are {x_pos} and {x_neg}.\")\n",
        "    else:                                           #If the numbers won't make\n",
        "        x_pos = (-b + math.sqrt(b**2 - 4 * a * c))  #math.sqrt crash we use this\n",
        "        x_pos = x_pos / (2*a)                       #one\n",
        "\n",
        "        x_neg = (-b - math.sqrt(b**2 - 4 * a * c))\n",
        "        x_neg = x_neg / (2*a)\n",
        "\n",
        "        if x_pos == x_neg:\n",
        "            print(f\"The answer is {x_pos}.\")        #If only 1 answer we word it\n",
        "        else:                                       #that way\n",
        "            print(f\"The answers are {x_pos} and {x_neg}.\")\n"
      ],
      "metadata": {
        "id": "KdApHc_V4Sep"
      },
      "execution_count": 100,
      "outputs": []
    },
    {
      "cell_type": "code",
      "source": [
        "#test cell\n",
        "quadratic_equasion(2,5,3)\n",
        "quadratic_equasion(0,4,2)\n",
        "quadratic_equasion(-2,5,-7)\n",
        "quadratic_equasion()\n",
        "quadratic_equasion(351, 7461, 12000)"
      ],
      "metadata": {
        "colab": {
          "base_uri": "https://localhost:8080/"
        },
        "id": "o6fuWkXQU3ox",
        "outputId": "80c6527d-6e9c-4379-8d21-0e183a41a08d"
      },
      "execution_count": 101,
      "outputs": [
        {
          "output_type": "stream",
          "name": "stdout",
          "text": [
            "The answers are -1.0 and -1.5.\n",
            "The 'A' varable can not be zero. Try again.\n",
            "The answers are (1.25-1.3919410907075054j) and (1.25+1.3919410907075054j).\n",
            "The answer is 0.0.\n",
            "The answers are -1.7529186506219057 and -19.50349160578835.\n"
          ]
        }
      ]
    },
    {
      "cell_type": "markdown",
      "source": [
        "#Function eight: Ohm's law\n",
        "-Given the input of two aguments the function will return the value of Ohm's, Amperes and Volts\n",
        "\n",
        "\n",
        "\n",
        "\n"
      ],
      "metadata": {
        "id": "-eiTpFJa4TPS"
      }
    },
    {
      "cell_type": "code",
      "source": [
        "#code cell\n",
        "\n",
        "def ohms_law(ohms = 0, amps = 0, volts = 0):\n",
        "    '''takes 2 arguments. ohms, amps and/or volts. calculates and displays\n",
        "    the missing value using Ohm's law'''\n",
        "    #try, except to provide feedback on non-integer args\n",
        "    try:\n",
        "        ohms = int(ohms)\n",
        "        amps = int(amps)\n",
        "        volts = int(volts)\n",
        "\n",
        "    except (TypeError, ValueError, NameError):\n",
        "          print(\"Put in a number\")\n",
        "\n",
        "\n",
        "    if ohms == 0:\n",
        "        #if ohms is the missing value\n",
        "        ohms = volts / amps\n",
        "        response = (f\"The resistance is {ohms} ohms.\")\n",
        "        response += (f\"\\nThe current is {amps} amps.\")\n",
        "        response += (f\"\\nThe voltage is {volts} volts.\\n\")\n",
        "        print(response)\n",
        "\n",
        "    if volts == 0:\n",
        "        #if volts is the missing value\n",
        "        volts = ohms * amps\n",
        "        response = (f\"The resistance is {ohms} ohms.\")\n",
        "        response += (f\"\\nThe current is {amps} amps.\")\n",
        "        response += (f\"\\nThe voltage is {volts} volts.\\n\")\n",
        "        print(response)\n",
        "\n",
        "\n",
        "    if amps == 0:\n",
        "        #if amps is the missing value\n",
        "        amps = volts / ohms\n",
        "        response = (f\"The resistance is {ohms} ohms.\")\n",
        "        response += (f\"\\nThe current is {amps} amps.\")\n",
        "        response += (f\"\\nThe voltage is {volts} volts.\\n\")\n",
        "        print(response)\n",
        "\n",
        ""
      ],
      "metadata": {
        "id": "7Aj9XE104VFK"
      },
      "execution_count": 52,
      "outputs": []
    },
    {
      "cell_type": "code",
      "source": [
        "#test cell\n",
        "ohms_law(volts = 10, amps = 2)\n",
        "ohms_law(ohms = 4, amps = 21)\n",
        "ohms_law(volts = 9, ohms = 12)\n",
        "ohms_law(amps = 15, volts = 2)\n",
        "#ohms_law(amps = 'g' , volts = 3) ~prints message \"put in a number\"\n"
      ],
      "metadata": {
        "colab": {
          "base_uri": "https://localhost:8080/"
        },
        "id": "l3Z-wGVe4VZP",
        "outputId": "d4087883-208f-4470-c72b-25985aba274b"
      },
      "execution_count": 53,
      "outputs": [
        {
          "output_type": "stream",
          "name": "stdout",
          "text": [
            "The resistance is 5.0 ohms.\n",
            "The current is 2 amps.\n",
            "The voltage is 10 volts.\n",
            "\n",
            "The resistance is 4 ohms.\n",
            "The current is 21 amps.\n",
            "The voltage is 84 volts.\n",
            "\n",
            "The resistance is 12 ohms.\n",
            "The current is 0.75 amps.\n",
            "The voltage is 9 volts.\n",
            "\n",
            "The resistance is 0.13333333333333333 ohms.\n",
            "The current is 15 amps.\n",
            "The voltage is 2 volts.\n",
            "\n"
          ]
        }
      ]
    },
    {
      "cell_type": "markdown",
      "source": [
        "#Function nine:\n",
        "binary up to 128 converter"
      ],
      "metadata": {
        "id": "9JGJ6Wvt4WGU"
      }
    },
    {
      "cell_type": "code",
      "source": [
        "#code cell\n",
        "\n",
        "y = 0\n",
        "\n",
        "def binary_converter(x):\n",
        "    global y\n",
        "    y = x\n",
        "    if x > 255 or x < 0:\n",
        "        print(\"Please choose a number between 0 and 256\")\n",
        "    else:\n",
        "        #128\n",
        "        if 128 <= x < 255:\n",
        "            x = x - 128\n",
        "            a = ('1')\n",
        "        else:\n",
        "            a = ('0')\n",
        "        #64\n",
        "        if 64 <= x < 128:\n",
        "            x = x - 64\n",
        "            b = ('1')\n",
        "        else:\n",
        "            b = ('0')\n",
        "        #32\n",
        "        if 32 <= x < 64:\n",
        "            x = x - 32\n",
        "            c = ('1')\n",
        "        else:\n",
        "            c = ('0')\n",
        "        #16\n",
        "        if 16 <= x < 32:\n",
        "            x = x - 16\n",
        "            d = ('1 ')\n",
        "        else:\n",
        "            d = ('0 ')\n",
        "        #8\n",
        "        if 8 <= x < 16:\n",
        "            x = x - 8\n",
        "            e = ('1')\n",
        "        else:\n",
        "            e = ('0')\n",
        "        #4\n",
        "        if 4 <= x < 8:\n",
        "            x = x - 4\n",
        "            f = ('1')\n",
        "        else:\n",
        "            f = ('0')\n",
        "        #2\n",
        "        if 2 <= x < 4:\n",
        "            x = x - 2\n",
        "            g = ('1')\n",
        "        else:\n",
        "            g = ('0')\n",
        "        #1\n",
        "        if 0 <= x < 2:\n",
        "            if x == 1:\n",
        "                h = ('1')\n",
        "            elif x != 1:\n",
        "                h = ('0')\n",
        "            print(f\"The number {y} is {a}{b}{c}{d} {e}{f}{g}{h} in binary\")\n"
      ],
      "metadata": {
        "id": "HcWeDvHU4X8z"
      },
      "execution_count": 2,
      "outputs": []
    },
    {
      "cell_type": "code",
      "source": [
        "#test cell\n",
        "\n",
        "binary_converter(17)\n",
        "binary_converter(200)\n",
        "binary_converter(700)\n",
        "binary_converter(-15)"
      ],
      "metadata": {
        "colab": {
          "base_uri": "https://localhost:8080/"
        },
        "id": "l4vI4BE94YR5",
        "outputId": "d08aec1c-1201-4491-fb1f-d7dbad5b1752"
      },
      "execution_count": 3,
      "outputs": [
        {
          "output_type": "stream",
          "name": "stdout",
          "text": [
            "The number 17 is 0001  0001 in binary\n",
            "The number 200 is 1100  1000 in binary\n",
            "Please choose a number between 0 and 256\n",
            "Please choose a number between 0 and 256\n"
          ]
        }
      ]
    },
    {
      "cell_type": "markdown",
      "source": [
        "#Function ten:\n",
        "Magic 8 ball\n"
      ],
      "metadata": {
        "id": "RShKkpWb4Y4u"
      }
    },
    {
      "cell_type": "code",
      "source": [
        "#code cell\n",
        "import random\n",
        "answer_yes = [\n",
        "    '\"It is certain\"',\n",
        "    '\"It is decidedly so\"',\n",
        "    '\"Without a doubt\"',\n",
        "    '\"Yes definetly\"',\n",
        "    '\"You may rely on it\"',\n",
        "    '\"As I see it, yes\"',\n",
        "    '\"Most likely\"',\n",
        "    '\"Outlook good\"',\n",
        "    '\"Yes\"',\n",
        "    '\"Signs point to yes\"'\n",
        "]\n",
        "\n",
        "answer_maybe = [\n",
        "    '\"Reply hazy, try again\"',\n",
        "    '\"Ask again later\"',\n",
        "    '\"Better not tell you\"',\n",
        "    '\"Cannot perdict now\"',\n",
        "    '\"concentrate and ask again\"'\n",
        "]\n",
        "\n",
        "answer_no = [\n",
        "    '\"Do not count on it\"',\n",
        "    '\"My reply is no\"',\n",
        "    '\"My sources say no\"',\n",
        "    '\"Outlook not so good\"',\n",
        "    '\"Very doubtful\"'\n",
        "]\n",
        "\n",
        "def decide_fate():\n",
        "    '''returns a random number 0, 1 or 2'''\n",
        "    fate = random.randrange(3)\n",
        "    return fate\n",
        "\n",
        "def tell_fortune():\n",
        "    '''using the number from decide fate it chooses a good(0), undecided(1) or\n",
        "    bad(2) response for the fortune. Then randomly chooses a fortune from the\n",
        "    correct list'''\n",
        "    fate = decide_fate()\n",
        "#    return fate\n",
        "    if fate == 0:\n",
        "        fortune = random.randrange(10)\n",
        "        response = (answer_yes[fortune])\n",
        "\n",
        "    if fate == 1:\n",
        "        fortune = random.randrange(5)\n",
        "        response = (answer_maybe[fortune])\n",
        "\n",
        "    if fate == 2:\n",
        "        fortune = random.randrange(5)\n",
        "        response = (answer_no[fortune])\n",
        "    print(f\"The magic 8 ball says {response}.\")\n"
      ],
      "metadata": {
        "id": "TFLb4lCj4aJc"
      },
      "execution_count": 139,
      "outputs": []
    },
    {
      "cell_type": "code",
      "source": [
        "#test cell\n",
        "count = 0\n",
        "while count < 15:\n",
        "    tell_fortune()\n",
        "    count += 1"
      ],
      "metadata": {
        "colab": {
          "base_uri": "https://localhost:8080/"
        },
        "id": "XkwAZZ_14aax",
        "outputId": "a9c78a21-35e5-4a9b-9ff0-f274ca8e70d0"
      },
      "execution_count": 140,
      "outputs": [
        {
          "output_type": "stream",
          "name": "stdout",
          "text": [
            "The magic 8 ball says \"concentrate and ask again\".\n",
            "The magic 8 ball says \"Do not count on it\".\n",
            "The magic 8 ball says \"Most likely\".\n",
            "The magic 8 ball says \"Do not count on it\".\n",
            "The magic 8 ball says \"Do not count on it\".\n",
            "The magic 8 ball says \"Very doubtful\".\n",
            "The magic 8 ball says \"Do not count on it\".\n",
            "The magic 8 ball says \"You may rely on it\".\n",
            "The magic 8 ball says \"As I see it, yes\".\n",
            "The magic 8 ball says \"Without a doubt\".\n",
            "The magic 8 ball says \"Better not tell you\".\n",
            "The magic 8 ball says \"Very doubtful\".\n",
            "The magic 8 ball says \"Reply hazy, try again\".\n",
            "The magic 8 ball says \"Very doubtful\".\n",
            "The magic 8 ball says \"Cannot perdict now\".\n"
          ]
        }
      ]
    }
  ]
}