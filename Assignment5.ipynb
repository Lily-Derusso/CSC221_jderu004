{
  "nbformat": 4,
  "nbformat_minor": 0,
  "metadata": {
    "colab": {
      "provenance": [],
      "authorship_tag": "ABX9TyONRbyHcu7jQSYU2IGReRKP",
      "include_colab_link": true
    },
    "kernelspec": {
      "name": "python3",
      "display_name": "Python 3"
    },
    "language_info": {
      "name": "python"
    }
  },
  "cells": [
    {
      "cell_type": "markdown",
      "metadata": {
        "id": "view-in-github",
        "colab_type": "text"
      },
      "source": [
        "<a href=\"https://colab.research.google.com/github/Lily-Derusso/CSC221_jderu004/blob/main/Assignment5.ipynb\" target=\"_parent\"><img src=\"https://colab.research.google.com/assets/colab-badge.svg\" alt=\"Open In Colab\"/></a>"
      ]
    },
    {
      "cell_type": "code",
      "execution_count": null,
      "metadata": {
        "colab": {
          "base_uri": "https://localhost:8080/"
        },
        "id": "oFnN9xcoDqP7",
        "outputId": "630e420b-0209-400b-fd55-c79be40166e2"
      },
      "outputs": [
        {
          "output_type": "stream",
          "name": "stdout",
          "text": [
            "One of my favorite pizzas is cheese pizza.\n",
            "One of my favorite pizzas is pizza with bacon.\n",
            "One of my favorite pizzas is white pizza.\n",
            "Pizza is one of my favorite foods\n"
          ]
        }
      ],
      "source": [
        "#TIY 4-1\n",
        "pizzas = ['cheese pizza', 'pizza with bacon', 'white pizza']\n",
        "for pizza in pizzas:\n",
        "    print(f\"One of my favorite pizzas is {pizza}.\")\n",
        "print(\"Pizza is one of my favorite foods\")"
      ]
    },
    {
      "cell_type": "code",
      "source": [
        "#TIY 4-2\n",
        "sea_animals = ['dolphin', 'shark', 'orca']\n",
        "for animal in sea_animals:\n",
        "    print(f\"A {animal} wouldn't make a good pet.\")\n",
        "print(\"All of these sea animals don't belong as pets.\")"
      ],
      "metadata": {
        "colab": {
          "base_uri": "https://localhost:8080/"
        },
        "id": "VPmDm8rexjx7",
        "outputId": "27504c19-82e6-484c-e049-8de88871b63b"
      },
      "execution_count": null,
      "outputs": [
        {
          "output_type": "stream",
          "name": "stdout",
          "text": [
            "A dolphin wouldn't make a good pet.\n",
            "A shark wouldn't make a good pet.\n",
            "A orca wouldn't make a good pet.\n",
            "All of these sea animals don't belong as pets.\n"
          ]
        }
      ]
    },
    {
      "cell_type": "code",
      "source": [
        "#TIY 4-3\n",
        "for number in range(1, 21):\n",
        "    print(number)"
      ],
      "metadata": {
        "colab": {
          "base_uri": "https://localhost:8080/"
        },
        "id": "aDUwpAQByf-n",
        "outputId": "09f3da23-5afd-45c7-f11f-c5b5be88640d"
      },
      "execution_count": null,
      "outputs": [
        {
          "output_type": "stream",
          "name": "stdout",
          "text": [
            "1\n",
            "2\n",
            "3\n",
            "4\n",
            "5\n",
            "6\n",
            "7\n",
            "8\n",
            "9\n",
            "10\n",
            "11\n",
            "12\n",
            "13\n",
            "14\n",
            "15\n",
            "16\n",
            "17\n",
            "18\n",
            "19\n",
            "20\n"
          ]
        }
      ]
    },
    {
      "cell_type": "code",
      "source": [
        "#TIY 4-4 it runs but takes a long time and a lot of space\n",
        "for number in range(1, 1000000):\n",
        "    print(number)"
      ],
      "metadata": {
        "id": "h-rH0_pV1VMg"
      },
      "execution_count": null,
      "outputs": []
    },
    {
      "cell_type": "code",
      "source": [
        "#TIY 4-5\n",
        "number = list(range(1, 1000000))\n",
        "print(min(number))\n",
        "print(max(number))\n",
        "print(sum(number))"
      ],
      "metadata": {
        "colab": {
          "base_uri": "https://localhost:8080/"
        },
        "id": "obv3MW1u2Jyr",
        "outputId": "ad0e96ae-8297-4003-f549-069ba9b5e15c"
      },
      "execution_count": null,
      "outputs": [
        {
          "output_type": "stream",
          "name": "stdout",
          "text": [
            "1\n",
            "999999\n",
            "499999500000\n"
          ]
        }
      ]
    },
    {
      "cell_type": "code",
      "source": [
        "#TIY 4-6\n",
        "for number in range(1, 20, 2):\n",
        "    print(number)"
      ],
      "metadata": {
        "colab": {
          "base_uri": "https://localhost:8080/"
        },
        "id": "coBPW3rH6xDM",
        "outputId": "f7f50a01-9ddf-4c43-c28e-7a2b788ffa36"
      },
      "execution_count": null,
      "outputs": [
        {
          "output_type": "stream",
          "name": "stdout",
          "text": [
            "1\n",
            "3\n",
            "5\n",
            "7\n",
            "9\n",
            "11\n",
            "13\n",
            "15\n",
            "17\n",
            "19\n"
          ]
        }
      ]
    },
    {
      "cell_type": "code",
      "source": [
        "#TIY 4-7\n",
        "for number in range(3, 31, 3):\n",
        "    print(number)"
      ],
      "metadata": {
        "colab": {
          "base_uri": "https://localhost:8080/"
        },
        "id": "zzRhPq0i7LEU",
        "outputId": "c2f6967c-b5f6-431a-827a-fc669d656d8d"
      },
      "execution_count": null,
      "outputs": [
        {
          "output_type": "stream",
          "name": "stdout",
          "text": [
            "3\n",
            "6\n",
            "9\n",
            "12\n",
            "15\n",
            "18\n",
            "21\n",
            "24\n",
            "27\n",
            "30\n"
          ]
        }
      ]
    },
    {
      "cell_type": "code",
      "source": [
        "#TIY 4-8\n",
        "for number in range(1, 11):\n",
        "    print(number**3)"
      ],
      "metadata": {
        "colab": {
          "base_uri": "https://localhost:8080/"
        },
        "id": "R1GBcuA_7Tiv",
        "outputId": "574bc9a0-6bf9-4336-f4fa-a6745763adb3"
      },
      "execution_count": null,
      "outputs": [
        {
          "output_type": "stream",
          "name": "stdout",
          "text": [
            "1\n",
            "8\n",
            "27\n",
            "64\n",
            "125\n",
            "216\n",
            "343\n",
            "512\n",
            "729\n",
            "1000\n"
          ]
        }
      ]
    },
    {
      "cell_type": "code",
      "source": [
        "#TIY 4-9\n",
        "number = [value**3 for value in range(1, 11)]\n",
        "print(number)"
      ],
      "metadata": {
        "colab": {
          "base_uri": "https://localhost:8080/"
        },
        "id": "V3j1G1Bi7n37",
        "outputId": "454a8760-a5ce-4709-fcb5-113a35ab9827"
      },
      "execution_count": null,
      "outputs": [
        {
          "output_type": "stream",
          "name": "stdout",
          "text": [
            "[1, 8, 27, 64, 125, 216, 343, 512, 729, 1000]\n"
          ]
        }
      ]
    },
    {
      "cell_type": "code",
      "source": [
        "#TIY 4-10\n",
        "number = list(range(1, 21))\n",
        "print(f\"The first 3 numbers are {number[:3]}\")\n",
        "print(f\"3 numbers in the middle are {number[10:13]}\")\n",
        "print(f\"The last 3 numbers are {number[-3:]}\")"
      ],
      "metadata": {
        "colab": {
          "base_uri": "https://localhost:8080/"
        },
        "id": "6HvOemmf8Dwo",
        "outputId": "20bcc3ca-a8b7-4f3e-f112-e6a8f5c2ecb8"
      },
      "execution_count": null,
      "outputs": [
        {
          "output_type": "stream",
          "name": "stdout",
          "text": [
            "The first 3 numbers are [1, 2, 3]\n",
            "3 numbers in the middle are [11, 12, 13]\n",
            "The last 3 numbers are [18, 19, 20]\n"
          ]
        }
      ]
    },
    {
      "cell_type": "code",
      "source": [
        "#TIY 4-11\n",
        "#TIY 4-12?\n",
        "pizzas = ['cheese pizza', 'pizza with bacon', 'white pizza']\n",
        "friends_pizza = pizzas[:]\n",
        "\n",
        "pizzas.append('vegi pizza')\n",
        "friends_pizza.append('hawaian pizza')\n",
        "for pizza in pizzas:\n",
        "    print(f\"One of my favorite pizzas is {pizza}.\")\n",
        "for pizza in friends_pizza:\n",
        "    print(f\"My friend likes {friends_pizza}\")"
      ],
      "metadata": {
        "colab": {
          "base_uri": "https://localhost:8080/"
        },
        "id": "8GhgtmXCE_0z",
        "outputId": "65b948eb-5b06-4a8e-8653-b59883b9e6a6"
      },
      "execution_count": null,
      "outputs": [
        {
          "output_type": "stream",
          "name": "stdout",
          "text": [
            "One of my favorite pizzas is cheese pizza.\n",
            "One of my favorite pizzas is pizza with bacon.\n",
            "One of my favorite pizzas is white pizza.\n",
            "One of my favorite pizzas is vegi pizza.\n",
            "My friend likes ['cheese pizza', 'pizza with bacon', 'white pizza', 'hawaian pizza']\n",
            "My friend likes ['cheese pizza', 'pizza with bacon', 'white pizza', 'hawaian pizza']\n",
            "My friend likes ['cheese pizza', 'pizza with bacon', 'white pizza', 'hawaian pizza']\n",
            "My friend likes ['cheese pizza', 'pizza with bacon', 'white pizza', 'hawaian pizza']\n"
          ]
        }
      ]
    },
    {
      "cell_type": "code",
      "source": [
        "#TIY 4-13\n",
        "foods = ('rice', 'pizza', 'pasta', 'hot dogs', 'soup')\n",
        "print(\"Origional food\")\n",
        "for food in foods:\n",
        "    print(food)\n",
        "#foods.append('nachos') rejected attempt at moddification of tuple\n",
        "foods = ('rice', 'pizza', 'cake', 'nachos', 'soup')\n",
        "print(\"\\nRevised foods\")\n",
        "for food in foods:\n",
        "    print(food)"
      ],
      "metadata": {
        "colab": {
          "base_uri": "https://localhost:8080/"
        },
        "id": "QSzDYaV4HZC9",
        "outputId": "73dc0ce8-724f-460e-e432-b5c8f6816122"
      },
      "execution_count": null,
      "outputs": [
        {
          "output_type": "stream",
          "name": "stdout",
          "text": [
            "Origional food\n",
            "rice\n",
            "pizza\n",
            "pasta\n",
            "hot dogs\n",
            "soup\n",
            "\n",
            "Revised foods\n",
            "rice\n",
            "pizza\n",
            "cake\n",
            "nachos\n",
            "soup\n"
          ]
        }
      ]
    },
    {
      "cell_type": "code",
      "source": [
        "#TIY 4-14\n",
        "#looked through pep8 guidelines\n",
        "#TIY 4-15\n",
        "#adjusted spacing to meet pep8 guidelines"
      ],
      "metadata": {
        "id": "uhIx4lNoJg1J"
      },
      "execution_count": null,
      "outputs": []
    },
    {
      "cell_type": "code",
      "source": [
        "#factorial n\n",
        "\n",
        "def factorial(n):\n",
        "    factor = list(range(1, n + 1))\n",
        "    product = 1\n",
        "    for number in factor:\n",
        "        product *= number\n",
        "    return product\n",
        "\n",
        "print(factorial(5))\n",
        "print(factorial(10))\n",
        "print(factorial(20))\n",
        "print(factorial(50))"
      ],
      "metadata": {
        "colab": {
          "base_uri": "https://localhost:8080/"
        },
        "id": "R5Q3rifPPZqU",
        "outputId": "f184fc76-1f13-4a34-8be3-6c315a2836b4"
      },
      "execution_count": 65,
      "outputs": [
        {
          "output_type": "stream",
          "name": "stdout",
          "text": [
            "120\n",
            "3628800\n",
            "2432902008176640000\n",
            "30414093201713378043612608166064768844377641568960512000000000000\n"
          ]
        }
      ]
    },
    {
      "cell_type": "code",
      "source": [
        "#Special factorial\n",
        "def special_factorial(n):\n",
        "    factor = list(range(1, n + 1))\n",
        "    product = 1\n",
        "    if n > 4:\n",
        "        factor.remove(4)\n",
        "    if n > 13:\n",
        "        factor.remove(13)\n",
        "    if n > 22:\n",
        "        factor.remove(22)\n",
        "    for number in factor:\n",
        "        product *= number\n",
        "    return product\n",
        "\n",
        "print(special_factorial(5))\n",
        "print(special_factorial(10))\n",
        "print(special_factorial(20))\n",
        "print(special_factorial(50))"
      ],
      "metadata": {
        "colab": {
          "base_uri": "https://localhost:8080/"
        },
        "id": "kdGTBd23hRzM",
        "outputId": "30448abf-dc4c-4c6e-9e92-d797947d4f66"
      },
      "execution_count": 70,
      "outputs": [
        {
          "output_type": "stream",
          "name": "stdout",
          "text": [
            "30\n",
            "907200\n",
            "46786577080320000\n",
            "26585745805693512275885146998308364374455980392448000000000000\n"
          ]
        }
      ]
    }
  ]
}