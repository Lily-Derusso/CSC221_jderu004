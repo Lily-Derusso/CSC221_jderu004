{
  "nbformat": 4,
  "nbformat_minor": 0,
  "metadata": {
    "colab": {
      "provenance": [],
      "authorship_tag": "ABX9TyNHUnG4ObTaePloBmYHF/6Z",
      "include_colab_link": true
    },
    "kernelspec": {
      "name": "python3",
      "display_name": "Python 3"
    },
    "language_info": {
      "name": "python"
    }
  },
  "cells": [
    {
      "cell_type": "markdown",
      "metadata": {
        "id": "view-in-github",
        "colab_type": "text"
      },
      "source": [
        "<a href=\"https://colab.research.google.com/github/Lily-Derusso/CSC221_jderu004/blob/main/Quiz2.ipynb\" target=\"_parent\"><img src=\"https://colab.research.google.com/assets/colab-badge.svg\" alt=\"Open In Colab\"/></a>"
      ]
    },
    {
      "cell_type": "markdown",
      "source": [
        "#Keyword: none"
      ],
      "metadata": {
        "id": "4oB38cDFU5Vx"
      }
    },
    {
      "cell_type": "code",
      "source": [
        "def f1(x):\n",
        "    a=3\n",
        "\n",
        "x = f1(13)\n",
        "print(x)\n",
        "#none is returned to show there is no value set unlike 0 or a blank string"
      ],
      "metadata": {
        "colab": {
          "base_uri": "https://localhost:8080/"
        },
        "id": "EAPSDwEoU8q0",
        "outputId": "2ac007ac-a47b-446c-86e2-c701443dcea7"
      },
      "execution_count": 1,
      "outputs": [
        {
          "output_type": "stream",
          "name": "stdout",
          "text": [
            "None\n"
          ]
        }
      ]
    },
    {
      "cell_type": "markdown",
      "source": [
        "#Keyword: False"
      ],
      "metadata": {
        "id": "eoa02cHWVQXo"
      }
    },
    {
      "cell_type": "code",
      "source": [
        "go = True\n",
        "count = 0\n",
        "while go == True:\n",
        "    if count >  5:\n",
        "        #false is a boolen, a binary yes or no\n",
        "        go = False\n",
        "    else:\n",
        "            print(count)\n",
        "            count += 1"
      ],
      "metadata": {
        "colab": {
          "base_uri": "https://localhost:8080/"
        },
        "id": "vHs-Z163VUli",
        "outputId": "dda56020-7f33-424c-f6e5-256ac2b7dcd3"
      },
      "execution_count": 2,
      "outputs": [
        {
          "output_type": "stream",
          "name": "stdout",
          "text": [
            "0\n",
            "1\n",
            "2\n",
            "3\n",
            "4\n",
            "5\n"
          ]
        }
      ]
    },
    {
      "cell_type": "markdown",
      "source": [
        "#Keyword: and"
      ],
      "metadata": {
        "id": "GA6699-zW6ed"
      }
    },
    {
      "cell_type": "code",
      "source": [
        "a = 12\n",
        "b = 5\n",
        "#and makes the statement have to fufill an additional requirement\n",
        "if int(a) and int(b):\n",
        "    print(a, b)"
      ],
      "metadata": {
        "colab": {
          "base_uri": "https://localhost:8080/"
        },
        "id": "afiGLhbQZkwM",
        "outputId": "86fbb665-c0f6-4738-a176-4604a31e0f83"
      },
      "execution_count": 3,
      "outputs": [
        {
          "output_type": "stream",
          "name": "stdout",
          "text": [
            "12 5\n"
          ]
        }
      ]
    },
    {
      "cell_type": "markdown",
      "source": [
        "#Keyword: True"
      ],
      "metadata": {
        "id": "rJs-EMa_XBXi"
      }
    },
    {
      "cell_type": "code",
      "source": [
        "def check_if_number(x,y):\n",
        "    '''checks if the first arg number is the same as the second arg number'''\n",
        "    if x == y:\n",
        "        #True is a boolen statement, a binary yes or no\n",
        "        return True\n",
        "    else:\n",
        "        return False\n",
        "\n",
        "def give_answer(x,y):\n",
        "    answer = check_if_number(x,y)\n",
        "    if answer == True:\n",
        "        print(f\"The numbers {x} and {y} are the same.\")\n",
        "    elif answer == False:\n",
        "        print(f\"The numbers {x} and {y} are not the same.\")\n",
        "\n",
        "give_answer(1,2)\n",
        "give_answer(7,7)"
      ],
      "metadata": {
        "id": "jvCsxo7NXFjj",
        "colab": {
          "base_uri": "https://localhost:8080/"
        },
        "outputId": "940d2d48-00fe-4e4c-e2c7-55b1c3352fe7"
      },
      "execution_count": 8,
      "outputs": [
        {
          "output_type": "stream",
          "name": "stdout",
          "text": [
            "The numbers 1 and 2 are not the same.\n",
            "The numbers 7 and 7 are the same.\n"
          ]
        }
      ]
    },
    {
      "cell_type": "markdown",
      "source": [
        "#Keyword: as"
      ],
      "metadata": {
        "id": "JS2M0wMxam9Y"
      }
    },
    {
      "cell_type": "code",
      "source": [
        "import math as m\n",
        "#as lets you rename a library you import to make calling it easier\n",
        "m.factorial(6)"
      ],
      "metadata": {
        "id": "HbO4AU2QarDI",
        "colab": {
          "base_uri": "https://localhost:8080/"
        },
        "outputId": "d9ac7ca5-7e24-4dc3-b094-d44aadad3873"
      },
      "execution_count": 14,
      "outputs": [
        {
          "output_type": "execute_result",
          "data": {
            "text/plain": [
              "720"
            ]
          },
          "metadata": {},
          "execution_count": 14
        }
      ]
    },
    {
      "cell_type": "markdown",
      "source": [
        "#Keyword: async"
      ],
      "metadata": {
        "id": "fjnrHv3ia1Gx"
      }
    },
    {
      "cell_type": "code",
      "source": [
        "import asyncio\n",
        "\n",
        "#async allows these two functions be coroutines makeing it so they can be paused\n",
        "#and resumed\n",
        "async def greet(name):\n",
        "    await asyncio.sleep(10)\n",
        "    return f\"Welcome, {name}!\"\n",
        "\n",
        "async def main():\n",
        "    message = await greet('Bilbo Baggins')\n",
        "    print(message)\n",
        "\n",
        "await main()"
      ],
      "metadata": {
        "colab": {
          "base_uri": "https://localhost:8080/"
        },
        "id": "mWQI3WPszVzu",
        "outputId": "32524a0c-b3a4-4b29-a427-8ee2838181e8"
      },
      "execution_count": 117,
      "outputs": [
        {
          "output_type": "stream",
          "name": "stdout",
          "text": [
            "Welcome, Bilbo Baggins!\n"
          ]
        }
      ]
    },
    {
      "cell_type": "markdown",
      "source": [
        "#Keyword: assert"
      ],
      "metadata": {
        "id": "sFcIHDgdbWX4"
      }
    },
    {
      "cell_type": "code",
      "source": [
        "def is_seven():\n",
        "    number = input(\"enter the number 7: \")\n",
        "    #assert is used to check if something is an expected outcome. If not it can\n",
        "    #return a custom error message\n",
        "    assert number == \"7\", \"You typed the wrong number\"\n",
        "\n",
        "is_seven()\n",
        "is_seven()"
      ],
      "metadata": {
        "id": "ZC3e0X08a9wr",
        "colab": {
          "base_uri": "https://localhost:8080/",
          "height": 332
        },
        "outputId": "ad0ffc9e-fd0a-4261-e354-0fa9801dcf93"
      },
      "execution_count": 25,
      "outputs": [
        {
          "name": "stdout",
          "output_type": "stream",
          "text": [
            "enter the number 7: 7\n",
            "enter the number 7: 8\n"
          ]
        },
        {
          "output_type": "error",
          "ename": "AssertionError",
          "evalue": "You typed the wrong number",
          "traceback": [
            "\u001b[0;31m---------------------------------------------------------------------------\u001b[0m",
            "\u001b[0;31mAssertionError\u001b[0m                            Traceback (most recent call last)",
            "\u001b[0;32m<ipython-input-25-ece43314c6c4>\u001b[0m in \u001b[0;36m<cell line: 6>\u001b[0;34m()\u001b[0m\n\u001b[1;32m      4\u001b[0m \u001b[0;34m\u001b[0m\u001b[0m\n\u001b[1;32m      5\u001b[0m \u001b[0mis_seven\u001b[0m\u001b[0;34m(\u001b[0m\u001b[0;34m)\u001b[0m\u001b[0;34m\u001b[0m\u001b[0;34m\u001b[0m\u001b[0m\n\u001b[0;32m----> 6\u001b[0;31m \u001b[0mis_seven\u001b[0m\u001b[0;34m(\u001b[0m\u001b[0;34m)\u001b[0m\u001b[0;34m\u001b[0m\u001b[0;34m\u001b[0m\u001b[0m\n\u001b[0m",
            "\u001b[0;32m<ipython-input-25-ece43314c6c4>\u001b[0m in \u001b[0;36mis_seven\u001b[0;34m()\u001b[0m\n\u001b[1;32m      1\u001b[0m \u001b[0;32mdef\u001b[0m \u001b[0mis_seven\u001b[0m\u001b[0;34m(\u001b[0m\u001b[0;34m)\u001b[0m\u001b[0;34m:\u001b[0m\u001b[0;34m\u001b[0m\u001b[0;34m\u001b[0m\u001b[0m\n\u001b[1;32m      2\u001b[0m     \u001b[0mnumber\u001b[0m \u001b[0;34m=\u001b[0m \u001b[0minput\u001b[0m\u001b[0;34m(\u001b[0m\u001b[0;34m\"enter the number 7: \"\u001b[0m\u001b[0;34m)\u001b[0m\u001b[0;34m\u001b[0m\u001b[0;34m\u001b[0m\u001b[0m\n\u001b[0;32m----> 3\u001b[0;31m     \u001b[0;32massert\u001b[0m \u001b[0mnumber\u001b[0m \u001b[0;34m==\u001b[0m \u001b[0;34m\"7\"\u001b[0m\u001b[0;34m,\u001b[0m \u001b[0;34m\"You typed the wrong number\"\u001b[0m\u001b[0;34m\u001b[0m\u001b[0;34m\u001b[0m\u001b[0m\n\u001b[0m\u001b[1;32m      4\u001b[0m \u001b[0;34m\u001b[0m\u001b[0m\n\u001b[1;32m      5\u001b[0m \u001b[0mis_seven\u001b[0m\u001b[0;34m(\u001b[0m\u001b[0;34m)\u001b[0m\u001b[0;34m\u001b[0m\u001b[0;34m\u001b[0m\u001b[0m\n",
            "\u001b[0;31mAssertionError\u001b[0m: You typed the wrong number"
          ]
        }
      ]
    },
    {
      "cell_type": "markdown",
      "source": [],
      "metadata": {
        "id": "3PQQrz_zbduA"
      }
    },
    {
      "cell_type": "markdown",
      "source": [
        "#Keyword: break"
      ],
      "metadata": {
        "id": "yRfRtJtLbkYy"
      }
    },
    {
      "cell_type": "code",
      "source": [
        "count = 2\n",
        "while True:\n",
        "    if count % 2 == 0 and not count == 2 :\n",
        "        print(f\"{count}: Even\")\n",
        "        count = count + 1\n",
        "        continue\n",
        "    if count % 3 == 0 and not count == 3:\n",
        "        print(f\"{count}: Multiple of 3\")\n",
        "        count = count + 1\n",
        "        continue\n",
        "    if count > 20:\n",
        "        #break ends the loop\n",
        "        break\n",
        "    else:\n",
        "      print(f\"{count}: Prime\")\n",
        "    count = count + 1"
      ],
      "metadata": {
        "colab": {
          "base_uri": "https://localhost:8080/"
        },
        "id": "azybc7Ww8vEz",
        "outputId": "cc4e4766-c060-47f3-f1af-d1f64918bbf1"
      },
      "execution_count": 55,
      "outputs": [
        {
          "output_type": "stream",
          "name": "stdout",
          "text": [
            "2: Prime\n",
            "3: Prime\n",
            "4: Even\n",
            "5: Prime\n",
            "6: Even\n",
            "7: Prime\n",
            "8: Even\n",
            "9: Multiple of 3\n",
            "10: Even\n",
            "11: Prime\n",
            "12: Even\n",
            "13: Prime\n",
            "14: Even\n",
            "15: Multiple of 3\n",
            "16: Even\n",
            "17: Prime\n",
            "18: Even\n",
            "19: Prime\n",
            "20: Even\n",
            "21: Multiple of 3\n",
            "22: Even\n"
          ]
        }
      ]
    },
    {
      "cell_type": "markdown",
      "source": [
        "#Keyword: await"
      ],
      "metadata": {
        "id": "VETA6EUSbpCN"
      }
    },
    {
      "cell_type": "code",
      "source": [
        "import asyncio\n",
        "\n",
        "async def greet(name):\n",
        "    await asyncio.sleep(10)\n",
        "    return f\"Welcome, {name}!\"\n",
        "\n",
        "async def main():\n",
        "    message = await greet('Bilbo Baggins')\n",
        "    print(message)\n",
        "#await is used to tell the program to wait\n",
        "await main()\n"
      ],
      "metadata": {
        "id": "BRSwnoIJbsx7",
        "colab": {
          "base_uri": "https://localhost:8080/"
        },
        "outputId": "934202be-6dc7-4de1-9b07-529a7bc05dfb"
      },
      "execution_count": 62,
      "outputs": [
        {
          "output_type": "stream",
          "name": "stdout",
          "text": [
            "Welcome, Bilbo Baggins!\n"
          ]
        }
      ]
    },
    {
      "cell_type": "markdown",
      "source": [
        "#Keyword: continue"
      ],
      "metadata": {
        "id": "xFoY88Mkb0y3"
      }
    },
    {
      "cell_type": "code",
      "source": [
        "for i in range(1, 21):\n",
        "\n",
        "    if i % 2:\n",
        "        #continue skips the odd numbers\n",
        "        continue\n",
        "    else:\n",
        "        print(i, end = \" \")"
      ],
      "metadata": {
        "id": "t77PX1GCb4tk",
        "colab": {
          "base_uri": "https://localhost:8080/"
        },
        "outputId": "9f91ed40-7e9f-429e-c57b-4dc3f745d63b"
      },
      "execution_count": 39,
      "outputs": [
        {
          "output_type": "stream",
          "name": "stdout",
          "text": [
            "2 4 6 8 10 12 14 16 18 20 "
          ]
        }
      ]
    },
    {
      "cell_type": "markdown",
      "source": [
        "#Keyword: class"
      ],
      "metadata": {
        "id": "PoHlv0u_b6wk"
      }
    },
    {
      "cell_type": "code",
      "source": [
        "#a class contains multiple related objects\n",
        "class Me():\n",
        "    def __init__(self):\n",
        "        self.first_name = \"Lily\"\n",
        "        self.last_name = \"DeRusso\"\n",
        "        self.major = \"Computer Science\"\n",
        "        self.year = \"Sophmore\"\n",
        "    def introduction(self):\n",
        "        intro = (f\"Hello, I am {self.first_name} {self.last_name}. I am in the\")\n",
        "        intro += (f\"{self.major} major and I am  in my {self.year} year of college.\")\n",
        "        print(intro)\n",
        "\n",
        "intro = Me()\n",
        "intro.introduction()"
      ],
      "metadata": {
        "id": "x7QLhyX-b-I4",
        "colab": {
          "base_uri": "https://localhost:8080/"
        },
        "outputId": "f8862a25-97f7-44dd-a3c8-19185ecdce82"
      },
      "execution_count": 43,
      "outputs": [
        {
          "output_type": "stream",
          "name": "stdout",
          "text": [
            "Hello, I am Lily DeRusso. I am in theComputer Science major and I am  in my Sophmore year of college.\n"
          ]
        }
      ]
    },
    {
      "cell_type": "markdown",
      "source": [
        "#Keyword: def"
      ],
      "metadata": {
        "id": "SnFlaWb3b_Dj"
      }
    },
    {
      "cell_type": "code",
      "source": [
        "#def is a function so it only runs when called\n",
        "def addition(*args):\n",
        "    total = sum(args)\n",
        "    print(total)\n",
        "\n",
        "addition(1,2,3,4,5)\n",
        "addition(54, 23)"
      ],
      "metadata": {
        "id": "Fs0xeCTDcBxn",
        "colab": {
          "base_uri": "https://localhost:8080/"
        },
        "outputId": "d725818b-cf66-48e4-af80-59e6097a049d"
      },
      "execution_count": 56,
      "outputs": [
        {
          "output_type": "stream",
          "name": "stdout",
          "text": [
            "15\n",
            "77\n"
          ]
        }
      ]
    },
    {
      "cell_type": "markdown",
      "source": [
        "#Keyword: elif"
      ],
      "metadata": {
        "id": "iqZdB9iLcC6Y"
      }
    },
    {
      "cell_type": "code",
      "source": [
        "guesses = []\n",
        "def guess_seven(number):\n",
        "    if number not in guesses:\n",
        "        guesses.append(number)\n",
        "        if number > 7:\n",
        "            print(f\"{number} is too big.\")\n",
        "        #elif allows the function to choose between multiple options\n",
        "        elif number < 7:\n",
        "            print(f\"{number} is too small.\")\n",
        "        else:\n",
        "            print(\"You gussed seven.\")\n",
        "    else:\n",
        "        print(f\"You already guessed {number}.\")\n",
        "\n",
        "guess_seven(4)\n",
        "guess_seven(7)\n",
        "guess_seven(9)\n",
        "guess_seven(4)"
      ],
      "metadata": {
        "id": "aT9d9JTecFaC",
        "colab": {
          "base_uri": "https://localhost:8080/"
        },
        "outputId": "e98bdb57-c3ec-4464-8fc8-23f9f52ad679"
      },
      "execution_count": 80,
      "outputs": [
        {
          "output_type": "stream",
          "name": "stdout",
          "text": [
            "4 is too small.\n",
            "You gussed seven.\n",
            "9 is too big.\n",
            "You already guessed 4.\n"
          ]
        }
      ]
    },
    {
      "cell_type": "markdown",
      "source": [
        "#Keyword: del"
      ],
      "metadata": {
        "id": "H0htiSCKcIxQ"
      }
    },
    {
      "cell_type": "code",
      "source": [
        "times = [\"12:00\", \"12:30\", \"2:00\", \"2:30\"]\n",
        "#del removes an object, it can be a class, function, string or part of a list\n",
        "del times[2]\n",
        "\n",
        "print(f\"Appointment times avalible: {times}\")"
      ],
      "metadata": {
        "id": "CMTlo61icLPr",
        "colab": {
          "base_uri": "https://localhost:8080/"
        },
        "outputId": "3ce49f63-228a-4d74-d925-d270a66396aa"
      },
      "execution_count": 2,
      "outputs": [
        {
          "output_type": "stream",
          "name": "stdout",
          "text": [
            "Appointment times avalible: ['12:00', '12:30', '2:30']\n"
          ]
        }
      ]
    },
    {
      "cell_type": "markdown",
      "source": [
        "#Keyword: except"
      ],
      "metadata": {
        "id": "wrhsxzymcMqF"
      }
    },
    {
      "cell_type": "code",
      "source": [
        "def check_is_number(number):\n",
        "    try:\n",
        "        number = int(number)\n",
        "        print(f\"{number} is a number\")\n",
        "    #except is paired with try. If 'try' raises an error the except code is triggered\n",
        "    except:\n",
        "        print(f\"{number} is not a number\")\n",
        "\n",
        "check_is_number(5)\n",
        "check_is_number(\"5\")\n",
        "check_is_number(\"h\")"
      ],
      "metadata": {
        "colab": {
          "base_uri": "https://localhost:8080/"
        },
        "id": "ZkdG1cNErmF9",
        "outputId": "6e2e4b72-b659-4cc1-fb6b-2e56f6dc8d77"
      },
      "execution_count": 7,
      "outputs": [
        {
          "output_type": "stream",
          "name": "stdout",
          "text": [
            "5 is a number\n",
            "5 is a number\n",
            "h is not a number\n"
          ]
        }
      ]
    },
    {
      "cell_type": "markdown",
      "source": [
        "#Keyword: else"
      ],
      "metadata": {
        "id": "v9dVAbntcPsK"
      }
    },
    {
      "cell_type": "code",
      "source": [
        "def grade(score):\n",
        "    if score > 90:\n",
        "        print(f\"{score} is an A\")\n",
        "    elif score > 75:\n",
        "        print(f\"{score} is an B\")\n",
        "    elif score > 65:\n",
        "        print(f\"{score} is an C\")\n",
        "    #else catches any score that does not fit into an above parameter\n",
        "    else:\n",
        "        print(\"That's a bad grade\")\n",
        "\n",
        "grade(75)\n",
        "grade(95)\n",
        "grade(20)\n",
        "grade(80)"
      ],
      "metadata": {
        "colab": {
          "base_uri": "https://localhost:8080/"
        },
        "id": "z9ho4zPssYVf",
        "outputId": "387fddd1-96e1-44cd-a92a-d991f1a68127"
      },
      "execution_count": 11,
      "outputs": [
        {
          "output_type": "stream",
          "name": "stdout",
          "text": [
            "75 is an C\n",
            "95 is an A\n",
            "That's a bad grade\n",
            "80 is an B\n"
          ]
        }
      ]
    },
    {
      "cell_type": "markdown",
      "source": [
        "#Keyword: for"
      ],
      "metadata": {
        "id": "jOwc-Zo2cSvx"
      }
    },
    {
      "cell_type": "code",
      "source": [
        "#for creates a loop of all the indented code and repeats/ iterates the code for\n",
        "#a duration set after the 'in' keyword\n",
        "for letter in \"Plattsburgh\":\n",
        "    print(letter)"
      ],
      "metadata": {
        "colab": {
          "base_uri": "https://localhost:8080/"
        },
        "id": "EwOQ3_66t7d9",
        "outputId": "ac5b3ffc-d11d-4637-ed5c-23f1636f2974"
      },
      "execution_count": 12,
      "outputs": [
        {
          "output_type": "stream",
          "name": "stdout",
          "text": [
            "P\n",
            "l\n",
            "a\n",
            "t\n",
            "t\n",
            "s\n",
            "b\n",
            "u\n",
            "r\n",
            "g\n",
            "h\n"
          ]
        }
      ]
    },
    {
      "cell_type": "markdown",
      "source": [
        "#Keyword: finally"
      ],
      "metadata": {
        "id": "kFrYXeymcd-K"
      }
    },
    {
      "cell_type": "code",
      "source": [
        "list = [3, 6, 14, 'h', 'hello']\n",
        "\n",
        "def check_is_number():\n",
        "    times = 1\n",
        "    for number in list:\n",
        "        try:\n",
        "            number = int(number)\n",
        "            print(f\"{number} is a number\")\n",
        "        except:\n",
        "            print(f\"{number} is not a number\")\n",
        "        #finally is used to have something happen regardless of if an error\n",
        "        #is raised or not\n",
        "        finally:\n",
        "            length = len(list)\n",
        "            left = length - times\n",
        "            print(f\"{left} left to check\\n\")\n",
        "            times += 1\n",
        "\n",
        "\n",
        "check_is_number()"
      ],
      "metadata": {
        "colab": {
          "base_uri": "https://localhost:8080/"
        },
        "id": "Ay6k-lJuukTs",
        "outputId": "d660db14-e69a-4067-e00b-5ef0f6a02929"
      },
      "execution_count": 26,
      "outputs": [
        {
          "output_type": "stream",
          "name": "stdout",
          "text": [
            "3 is a number\n",
            "4 left to check\n",
            "\n",
            "6 is a number\n",
            "3 left to check\n",
            "\n",
            "14 is a number\n",
            "2 left to check\n",
            "\n",
            "h is not a number\n",
            "1 left to check\n",
            "\n",
            "hello is not a number\n",
            "0 left to check\n",
            "\n"
          ]
        }
      ]
    },
    {
      "cell_type": "markdown",
      "source": [
        "#Keyword: from"
      ],
      "metadata": {
        "id": "5du799jZceG6"
      }
    },
    {
      "cell_type": "code",
      "source": [
        "#from is used to import only a section of a module you want\n",
        "from random import randint\n",
        "\n",
        "x = randint(1,10)\n",
        "print(x)"
      ],
      "metadata": {
        "colab": {
          "base_uri": "https://localhost:8080/"
        },
        "id": "GqRCv-C_xGNS",
        "outputId": "bb92a444-30fe-45a3-f020-4be70357e6b9"
      },
      "execution_count": 30,
      "outputs": [
        {
          "output_type": "stream",
          "name": "stdout",
          "text": [
            "7\n"
          ]
        }
      ]
    },
    {
      "cell_type": "markdown",
      "source": [
        "#Keyword: if"
      ],
      "metadata": {
        "id": "5TtrZRBmceNk"
      }
    },
    {
      "cell_type": "code",
      "source": [
        "list = [\"Lily\", \"Noah\", \"Kahmani\", 17, \"BD1\"]\n",
        "def hello(name):\n",
        "    #if starts the conditional statment to sort if the name is a string or not\n",
        "    if name == str(name):\n",
        "        print(f\"Hello {name}.\")\n",
        "    else:\n",
        "        print(f\"{name} is not a word.\")\n",
        "\n",
        "for name in list:\n",
        "    hello(name)"
      ],
      "metadata": {
        "colab": {
          "base_uri": "https://localhost:8080/"
        },
        "id": "Ck3YcJ4_xqiA",
        "outputId": "b8cf5ed3-ef8f-4184-c85f-7c695a00dee8"
      },
      "execution_count": 33,
      "outputs": [
        {
          "output_type": "stream",
          "name": "stdout",
          "text": [
            "Hello Lily.\n",
            "Hello Noah.\n",
            "Hello Kahmani.\n",
            "17 is not a word.\n",
            "Hello BD1.\n"
          ]
        }
      ]
    },
    {
      "cell_type": "markdown",
      "source": [
        "#Keyword: global"
      ],
      "metadata": {
        "id": "aEi1h4MCceUi"
      }
    },
    {
      "cell_type": "code",
      "source": [
        "x = 7\n",
        "y = 14\n",
        "\n",
        "def example():\n",
        "    #global is used so we can assign a new value to a varable while inside a function\n",
        "    global x\n",
        "    x = x * y\n",
        "    print(x)\n",
        "\n",
        "example()"
      ],
      "metadata": {
        "colab": {
          "base_uri": "https://localhost:8080/"
        },
        "id": "WTqLIyCpynUD",
        "outputId": "78a68fdf-3278-4e43-ce06-4dfbd524fb25"
      },
      "execution_count": 39,
      "outputs": [
        {
          "output_type": "stream",
          "name": "stdout",
          "text": [
            "98\n"
          ]
        }
      ]
    },
    {
      "cell_type": "markdown",
      "source": [
        "#Keyword: in"
      ],
      "metadata": {
        "id": "17co6fH4ceia"
      }
    },
    {
      "cell_type": "code",
      "source": [
        "#in sets the duration for the for loop. In this case for as many letters are in\n",
        "#the name schenectady\n",
        "for letter in \"Schenectady\":\n",
        "    print(letter)"
      ],
      "metadata": {
        "colab": {
          "base_uri": "https://localhost:8080/"
        },
        "id": "Ww2ToNCRz16K",
        "outputId": "955f8a99-ef13-40ef-a317-d85d1f8140fd"
      },
      "execution_count": 40,
      "outputs": [
        {
          "output_type": "stream",
          "name": "stdout",
          "text": [
            "S\n",
            "c\n",
            "h\n",
            "e\n",
            "n\n",
            "e\n",
            "c\n",
            "t\n",
            "a\n",
            "d\n",
            "y\n"
          ]
        }
      ]
    },
    {
      "cell_type": "markdown",
      "source": [
        "#Keyword: import"
      ],
      "metadata": {
        "id": "YExjocA6XF9N"
      }
    },
    {
      "cell_type": "code",
      "source": [
        "import random\n",
        "number = random.randint(1, 6)\n",
        "print(number)\n",
        "number = random.randint(1, 6)\n",
        "print(number)"
      ],
      "metadata": {
        "colab": {
          "base_uri": "https://localhost:8080/"
        },
        "id": "KUjk_mLMXToG",
        "outputId": "ef5ad70e-bed1-4e95-d4d9-c3d4a21ae013"
      },
      "execution_count": 41,
      "outputs": [
        {
          "output_type": "stream",
          "name": "stdout",
          "text": [
            "3\n",
            "4\n"
          ]
        }
      ]
    },
    {
      "cell_type": "markdown",
      "source": [
        "#Keyword: lambda"
      ],
      "metadata": {
        "id": "U-O0q8_Mcel_"
      }
    },
    {
      "cell_type": "code",
      "source": [
        "#lanbda is used to make small functions that return 1 expression\n",
        "x = lambda a : a * 10\n",
        "y = lambda a, b, c, d, e: a + b - c * d / e\n",
        "print(x(5))\n",
        "print(y(9,8,7,6,5))"
      ],
      "metadata": {
        "colab": {
          "base_uri": "https://localhost:8080/"
        },
        "id": "SO22lQ_N0VNQ",
        "outputId": "9d795ef0-ad54-4215-cbc7-ab6f6622c7ee"
      },
      "execution_count": 45,
      "outputs": [
        {
          "output_type": "stream",
          "name": "stdout",
          "text": [
            "50\n",
            "8.6\n"
          ]
        }
      ]
    },
    {
      "cell_type": "markdown",
      "source": [
        "#Keyword: is"
      ],
      "metadata": {
        "id": "L_x-xhUIceoi"
      }
    },
    {
      "cell_type": "code",
      "source": [
        "def is_example(x, y):\n",
        "    #is checks if two objects are the same\n",
        "    print(f\"{x} is {y}: {x is y}\")\n",
        "\n",
        "is_example(1,4)\n",
        "is_example(\"hello\", \"hello\")\n",
        "is_example(7, 7)"
      ],
      "metadata": {
        "colab": {
          "base_uri": "https://localhost:8080/"
        },
        "id": "u_klMRDX1Cbn",
        "outputId": "a45d12c4-6e1a-4416-a6e0-4f880fd6dfe7"
      },
      "execution_count": 49,
      "outputs": [
        {
          "output_type": "stream",
          "name": "stdout",
          "text": [
            "1 is 4: False\n",
            "hello is hello: True\n",
            "7 is 7: True\n"
          ]
        }
      ]
    },
    {
      "cell_type": "markdown",
      "source": [
        "#Keyword: nonlocal"
      ],
      "metadata": {
        "id": "62dTDqIAcerZ"
      }
    },
    {
      "cell_type": "code",
      "source": [
        "def function1():\n",
        "  x = \"function 1 x value\"\n",
        "  def function2():\n",
        "    #nonlocal tells the code to treat the x value here as a different object\n",
        "    nonlocal x\n",
        "    x = \"function 2 x vale\"\n",
        "  function2()\n",
        "  return x\n",
        "\n",
        "print(function1())"
      ],
      "metadata": {
        "colab": {
          "base_uri": "https://localhost:8080/"
        },
        "id": "fwnQ91JkPkvp",
        "outputId": "8f02bb16-61cc-45a4-fdf0-795dd4531539"
      },
      "execution_count": 53,
      "outputs": [
        {
          "output_type": "stream",
          "name": "stdout",
          "text": [
            "function 2 x vale\n"
          ]
        }
      ]
    },
    {
      "cell_type": "markdown",
      "source": [
        "#Keyword: not"
      ],
      "metadata": {
        "id": "Ar8ZnqBOceu8"
      }
    },
    {
      "cell_type": "code",
      "source": [
        "list = [\"plattsburgh\", \"albany\", \"troy\", \"altamont\"]\n",
        "print(f\"Origional list: {list}\")\n",
        "\n",
        "def on_list(word):\n",
        "    #not returns true or false (false if statement is true and vice versa)\n",
        "    if word not in list:\n",
        "        list.append(word)\n",
        "        print(list)\n",
        "    else:\n",
        "        print(f\"{word} already is one the list\")\n",
        "\n",
        "on_list(\"schenectady\")\n",
        "on_list(\"albany\")\n",
        "on_list(\"burlintion\")"
      ],
      "metadata": {
        "colab": {
          "base_uri": "https://localhost:8080/"
        },
        "id": "PV9akPVxQSJE",
        "outputId": "934cde19-8720-41e6-cbf4-92ef404fdc49"
      },
      "execution_count": 62,
      "outputs": [
        {
          "output_type": "stream",
          "name": "stdout",
          "text": [
            "Origional list: ['plattsburgh', 'albany', 'troy', 'altamont']\n",
            "['plattsburgh', 'albany', 'troy', 'altamont', 'schenectady']\n",
            "albany already is one the list\n",
            "['plattsburgh', 'albany', 'troy', 'altamont', 'schenectady', 'burlintion']\n"
          ]
        }
      ]
    },
    {
      "cell_type": "markdown",
      "source": [
        "#Keyword: or"
      ],
      "metadata": {
        "id": "UcO_PDVGcexA"
      }
    },
    {
      "cell_type": "code",
      "source": [
        "fav_number = 7\n",
        "second_fave_number = 13\n",
        "def fav(number):\n",
        "    #or combines two statements and returns true if either are satasfied\n",
        "    if number == fav_number or number == second_fave_number:\n",
        "        print(f\"{number} is one of my favorite numbers\")\n",
        "    else:\n",
        "        print(f\"{number} is not one of my favorite numbers\")\n",
        "\n",
        "fav(2)\n",
        "fav(7)\n",
        "fav(21)"
      ],
      "metadata": {
        "colab": {
          "base_uri": "https://localhost:8080/"
        },
        "id": "ODvcXRFuSOen",
        "outputId": "d87795fd-ef70-4542-8c82-1a63cdd8a196"
      },
      "execution_count": 70,
      "outputs": [
        {
          "output_type": "stream",
          "name": "stdout",
          "text": [
            "2 is not one of my favorite numbers\n",
            "7 is one of my favorite numbers\n",
            "21 is not one of my favorite numbers\n"
          ]
        }
      ]
    },
    {
      "cell_type": "markdown",
      "source": [
        "#Keyword: raise"
      ],
      "metadata": {
        "id": "9pU7rpgMce0K"
      }
    },
    {
      "cell_type": "code",
      "source": [
        "def even(x):\n",
        "    if x % 2 != 0:\n",
        "        #reaise causes an error to occur since the if statement was met\n",
        "        raise Exception(\"The number is not even\")\n",
        "    else:\n",
        "        print(f\"{x} is even\")\n",
        "\n",
        "even(8)\n",
        "even(5)"
      ],
      "metadata": {
        "colab": {
          "base_uri": "https://localhost:8080/",
          "height": 315
        },
        "id": "w6hRtfVnTUkv",
        "outputId": "0499df41-19c3-4f26-e4c4-e7c30099aa16"
      },
      "execution_count": 81,
      "outputs": [
        {
          "output_type": "stream",
          "name": "stdout",
          "text": [
            "8 is even\n"
          ]
        },
        {
          "output_type": "error",
          "ename": "Exception",
          "evalue": "The number is not even",
          "traceback": [
            "\u001b[0;31m---------------------------------------------------------------------------\u001b[0m",
            "\u001b[0;31mException\u001b[0m                                 Traceback (most recent call last)",
            "\u001b[0;32m<ipython-input-81-504bc463f7a2>\u001b[0m in \u001b[0;36m<cell line: 8>\u001b[0;34m()\u001b[0m\n\u001b[1;32m      6\u001b[0m \u001b[0;34m\u001b[0m\u001b[0m\n\u001b[1;32m      7\u001b[0m \u001b[0meven\u001b[0m\u001b[0;34m(\u001b[0m\u001b[0;36m8\u001b[0m\u001b[0;34m)\u001b[0m\u001b[0;34m\u001b[0m\u001b[0;34m\u001b[0m\u001b[0m\n\u001b[0;32m----> 8\u001b[0;31m \u001b[0meven\u001b[0m\u001b[0;34m(\u001b[0m\u001b[0;36m5\u001b[0m\u001b[0;34m)\u001b[0m\u001b[0;34m\u001b[0m\u001b[0;34m\u001b[0m\u001b[0m\n\u001b[0m",
            "\u001b[0;32m<ipython-input-81-504bc463f7a2>\u001b[0m in \u001b[0;36meven\u001b[0;34m(x)\u001b[0m\n\u001b[1;32m      1\u001b[0m \u001b[0;32mdef\u001b[0m \u001b[0meven\u001b[0m\u001b[0;34m(\u001b[0m\u001b[0mx\u001b[0m\u001b[0;34m)\u001b[0m\u001b[0;34m:\u001b[0m\u001b[0;34m\u001b[0m\u001b[0;34m\u001b[0m\u001b[0m\n\u001b[1;32m      2\u001b[0m     \u001b[0;32mif\u001b[0m \u001b[0mx\u001b[0m \u001b[0;34m%\u001b[0m \u001b[0;36m2\u001b[0m \u001b[0;34m!=\u001b[0m \u001b[0;36m0\u001b[0m\u001b[0;34m:\u001b[0m\u001b[0;34m\u001b[0m\u001b[0;34m\u001b[0m\u001b[0m\n\u001b[0;32m----> 3\u001b[0;31m         \u001b[0;32mraise\u001b[0m \u001b[0mException\u001b[0m\u001b[0;34m(\u001b[0m\u001b[0;34m\"The number is not even\"\u001b[0m\u001b[0;34m)\u001b[0m\u001b[0;34m\u001b[0m\u001b[0;34m\u001b[0m\u001b[0m\n\u001b[0m\u001b[1;32m      4\u001b[0m     \u001b[0;32melse\u001b[0m\u001b[0;34m:\u001b[0m\u001b[0;34m\u001b[0m\u001b[0;34m\u001b[0m\u001b[0m\n\u001b[1;32m      5\u001b[0m         \u001b[0mprint\u001b[0m\u001b[0;34m(\u001b[0m\u001b[0;34mf\"{x} is even\"\u001b[0m\u001b[0;34m)\u001b[0m\u001b[0;34m\u001b[0m\u001b[0;34m\u001b[0m\u001b[0m\n",
            "\u001b[0;31mException\u001b[0m: The number is not even"
          ]
        }
      ]
    },
    {
      "cell_type": "markdown",
      "source": [
        "#Keyword: pass"
      ],
      "metadata": {
        "id": "89YEUkbjce3K"
      }
    },
    {
      "cell_type": "code",
      "source": [
        "def odds_to_ten():\n",
        "    for number in range(11):\n",
        "        if number % 2 == 0:\n",
        "            #pass is used  when there is no code in a place  and you want to avoid\n",
        "            #an error being raised because of it\n",
        "            pass\n",
        "        else:\n",
        "            print(number)\n",
        "\n",
        "odds_to_ten()"
      ],
      "metadata": {
        "colab": {
          "base_uri": "https://localhost:8080/"
        },
        "id": "qjvIv3rlVIlO",
        "outputId": "9d5dcb0a-eb23-410c-e93f-1a78f57ba1b3"
      },
      "execution_count": 88,
      "outputs": [
        {
          "output_type": "stream",
          "name": "stdout",
          "text": [
            "1\n",
            "3\n",
            "5\n",
            "7\n",
            "9\n"
          ]
        }
      ]
    },
    {
      "cell_type": "markdown",
      "source": [
        "#Keyword: try"
      ],
      "metadata": {
        "id": "UjpMVFcKce6C"
      }
    },
    {
      "cell_type": "code",
      "source": [
        "def check_is_number(number):\n",
        "    #try  tells the code to try something and if an error is raised to do what\n",
        "    #the exccept ccode says\n",
        "    try:\n",
        "        number = int(number)\n",
        "        print(f\"{number} is a number\")\n",
        "    except:\n",
        "        print(f\"{number} is not a number\")\n",
        "\n",
        "check_is_number(17)\n",
        "check_is_number(\"2\")\n",
        "check_is_number(\"Sauron\")"
      ],
      "metadata": {
        "colab": {
          "base_uri": "https://localhost:8080/"
        },
        "id": "wX-Wo4cMWByt",
        "outputId": "1ab0adfa-1fe6-400a-8d84-27eead9eaf4c"
      },
      "execution_count": 100,
      "outputs": [
        {
          "output_type": "stream",
          "name": "stdout",
          "text": [
            "17 is a number\n",
            "2 is a number\n",
            "Sauron is not a number\n"
          ]
        }
      ]
    },
    {
      "cell_type": "markdown",
      "source": [
        "#Keyword: return"
      ],
      "metadata": {
        "id": "DFv3x-P6ce9c"
      }
    },
    {
      "cell_type": "code",
      "source": [
        "num_to_guess = 7\n",
        "def check_number(guess):\n",
        "    if guess == num_to_guess:\n",
        "        #return exits the function and returns the corisponding value\n",
        "        #to the function response()\n",
        "        return 0\n",
        "    elif guess > num_to_guess:\n",
        "        return 1\n",
        "    elif guess < num_to_guess:\n",
        "        return -1\n",
        "\n",
        "def response(guess):\n",
        "    if check_number(guess) == 0:\n",
        "        print(\"Well done you guessed right\")\n",
        "    elif check_number(guess) == 1:\n",
        "        print(f\"{guess} is too high of a guess\")\n",
        "    elif check_number(guess) == -1:\n",
        "        print(f\"{guess} is too low of a guess\")\n",
        "\n",
        "response(7)\n",
        "response(9)\n",
        "response(4)"
      ],
      "metadata": {
        "colab": {
          "base_uri": "https://localhost:8080/"
        },
        "id": "RHap4PfXXZEJ",
        "outputId": "455b2e7c-d6a0-462f-8c2c-790ed74f0be2"
      },
      "execution_count": 104,
      "outputs": [
        {
          "output_type": "stream",
          "name": "stdout",
          "text": [
            "Well done you guessed right\n",
            "9 is too high of a guess\n",
            "4 is too low of a guess\n"
          ]
        }
      ]
    },
    {
      "cell_type": "markdown",
      "source": [
        "#Keyword: while"
      ],
      "metadata": {
        "id": "8nNtqGmQcfAU"
      }
    },
    {
      "cell_type": "code",
      "source": [
        "x = 0\n",
        "#while runs a loop until the stated requirement is met\n",
        "while x <= 25:\n",
        "    print(x)\n",
        "    x += 1"
      ],
      "metadata": {
        "colab": {
          "base_uri": "https://localhost:8080/"
        },
        "id": "640A27E6ZD_D",
        "outputId": "e281dd7a-4e50-44bd-9088-375699083419"
      },
      "execution_count": 107,
      "outputs": [
        {
          "output_type": "stream",
          "name": "stdout",
          "text": [
            "0\n",
            "1\n",
            "2\n",
            "3\n",
            "4\n",
            "5\n",
            "6\n",
            "7\n",
            "8\n",
            "9\n",
            "10\n",
            "11\n",
            "12\n",
            "13\n",
            "14\n",
            "15\n",
            "16\n",
            "17\n",
            "18\n",
            "19\n",
            "20\n",
            "21\n",
            "22\n",
            "23\n",
            "24\n",
            "25\n"
          ]
        }
      ]
    },
    {
      "cell_type": "markdown",
      "source": [
        "#Keyword: with"
      ],
      "metadata": {
        "id": "XfpRtynrcfDo"
      }
    },
    {
      "cell_type": "code",
      "source": [
        "#with is used to write code dealing with files more neatly. Making it sou you\n",
        "#don't have to call file.close()\n",
        "with open('with_file', 'w') as file:\n",
        "    file.write(\"It's over Anikin! I have the high ground!\")"
      ],
      "metadata": {
        "id": "1E0eQwFoZcSC"
      },
      "execution_count": 116,
      "outputs": []
    },
    {
      "cell_type": "markdown",
      "source": [
        "#Keyword: yield"
      ],
      "metadata": {
        "id": "Wy22wXo2cfG0"
      }
    },
    {
      "cell_type": "code",
      "source": [
        "def counting():\n",
        "    num = 0\n",
        "    while num <= 20:\n",
        "        #yield returns the number without stopping the function like return does\n",
        "        yield num\n",
        "        num += 1\n",
        "\n",
        "for number in counting():\n",
        "    print(number, end=\" \")"
      ],
      "metadata": {
        "colab": {
          "base_uri": "https://localhost:8080/"
        },
        "id": "2ua9dVYVanc6",
        "outputId": "ebaa1722-b1c8-4dd6-94ad-fea75771a41b"
      },
      "execution_count": 115,
      "outputs": [
        {
          "output_type": "stream",
          "name": "stdout",
          "text": [
            "0 1 2 3 4 5 6 7 8 9 10 11 12 13 14 15 16 17 18 19 20 "
          ]
        }
      ]
    }
  ]
}