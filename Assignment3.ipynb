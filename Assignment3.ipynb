{
  "nbformat": 4,
  "nbformat_minor": 0,
  "metadata": {
    "colab": {
      "provenance": [],
      "authorship_tag": "ABX9TyOULmeXIY9Xw9gBqdlZRcPr",
      "include_colab_link": true
    },
    "kernelspec": {
      "name": "python3",
      "display_name": "Python 3"
    },
    "language_info": {
      "name": "python"
    }
  },
  "cells": [
    {
      "cell_type": "markdown",
      "metadata": {
        "id": "view-in-github",
        "colab_type": "text"
      },
      "source": [
        "<a href=\"https://colab.research.google.com/github/Lily-Derusso/CSC221_jderu004/blob/main/Assignment3.ipynb\" target=\"_parent\"><img src=\"https://colab.research.google.com/assets/colab-badge.svg\" alt=\"Open In Colab\"/></a>"
      ]
    },
    {
      "cell_type": "code",
      "execution_count": 2,
      "metadata": {
        "colab": {
          "base_uri": "https://localhost:8080/"
        },
        "id": "VDP0IdrZOrVv",
        "outputId": "17a9a829-90ce-4688-8f7d-d68703391868"
      },
      "outputs": [
        {
          "output_type": "stream",
          "name": "stdout",
          "text": [
            "Hello there\n"
          ]
        }
      ],
      "source": [
        "#TIY 2-1\n",
        "greeting = (\"Hello there\")\n",
        "print(greeting)"
      ]
    },
    {
      "cell_type": "code",
      "source": [
        "#TIY 2-2\n",
        "response = (\"General Kanobi! You are a bold one\")\n",
        "print(response)\n",
        "response = (\"Obi-wan smiles\")\n",
        "print(response)"
      ],
      "metadata": {
        "colab": {
          "base_uri": "https://localhost:8080/"
        },
        "id": "I1edMj5jRRTg",
        "outputId": "f214772c-0c0a-4bd7-8dcb-47c313ce148d"
      },
      "execution_count": 4,
      "outputs": [
        {
          "output_type": "stream",
          "name": "stdout",
          "text": [
            "General Kanobi! You are a bold one\n",
            "Obi-wan smiles\n"
          ]
        }
      ]
    },
    {
      "cell_type": "code",
      "source": [
        "#TIY 2-3\n",
        "name = (\"Lily\")\n",
        "print(f\"Hello {name} I hope you are doing well\")"
      ],
      "metadata": {
        "colab": {
          "base_uri": "https://localhost:8080/"
        },
        "id": "SgeksVf5ZBlU",
        "outputId": "28f9074c-b394-45ec-8cc4-ded41a28d7d0"
      },
      "execution_count": 21,
      "outputs": [
        {
          "output_type": "stream",
          "name": "stdout",
          "text": [
            "Hello Lily I hope you are doing well\n"
          ]
        }
      ]
    },
    {
      "cell_type": "code",
      "source": [
        "#TIY 2-4\n",
        "name = (\"lIlY dErUsSo\")\n",
        "print(name.lower())\n",
        "print(name.upper())\n",
        "print(name.title())"
      ],
      "metadata": {
        "colab": {
          "base_uri": "https://localhost:8080/"
        },
        "id": "AUkjeDnuZamM",
        "outputId": "a904059d-15f3-46a7-ccd0-d2c2891443c0"
      },
      "execution_count": 28,
      "outputs": [
        {
          "output_type": "stream",
          "name": "stdout",
          "text": [
            "lily derusso\n",
            "LILY DERUSSO\n",
            "Lily Derusso\n"
          ]
        }
      ]
    },
    {
      "cell_type": "code",
      "source": [
        "#TIY 2-5\n",
        "print(\"Shane Madej once said,\" '\"' \"I'm dancing on your bridge Goatman! It's my bridge now!\" '\"')"
      ],
      "metadata": {
        "colab": {
          "base_uri": "https://localhost:8080/"
        },
        "id": "39KeOB01betv",
        "outputId": "2356a2ea-313b-4d64-93d1-02431bead483"
      },
      "execution_count": 33,
      "outputs": [
        {
          "output_type": "stream",
          "name": "stdout",
          "text": [
            "Shane Madej once said,\"I'm dancing on your bridge Goatman! It's my bridge now!\"\n"
          ]
        }
      ]
    },
    {
      "cell_type": "code",
      "source": [
        "#TIY 2-6\n",
        "famous_person = (\"shane madej\")\n",
        "message = (\"I'm dancing on your bridge Goatman! It's my bridge now!\")\n",
        "print(f'{famous_person.title()} once said, \"{message}\"')"
      ],
      "metadata": {
        "colab": {
          "base_uri": "https://localhost:8080/"
        },
        "id": "A1eCCCeCaTDz",
        "outputId": "51301718-3108-4b89-81c6-6244b27c3c36"
      },
      "execution_count": 32,
      "outputs": [
        {
          "output_type": "stream",
          "name": "stdout",
          "text": [
            "Shane Madej once said, \"I'm dancing on your bridge Goatman! It's my bridge now!\"\n"
          ]
        }
      ]
    },
    {
      "cell_type": "code",
      "source": [
        "#TIY 2-7\n",
        "name = (\"     \\tpeter \\nparker     \")\n",
        "print(name)\n",
        "print(name.lstrip())\n",
        "print(name.rstrip())\n",
        "print(name.strip())"
      ],
      "metadata": {
        "colab": {
          "base_uri": "https://localhost:8080/"
        },
        "id": "WoQ-t1MdcPOv",
        "outputId": "ef40def4-4bbb-4eb6-ea80-179695e45f99"
      },
      "execution_count": 37,
      "outputs": [
        {
          "output_type": "stream",
          "name": "stdout",
          "text": [
            "     \tpeter \n",
            "parker     \n",
            "peter \n",
            "parker     \n",
            "     \tpeter \n",
            "parker\n",
            "peter \n",
            "parker\n"
          ]
        }
      ]
    },
    {
      "cell_type": "code",
      "source": [
        "#TIY 2-8\n",
        "filename = \"python_notes.txt\"\n",
        "print(filename.removesuffix(\".txt\"))"
      ],
      "metadata": {
        "colab": {
          "base_uri": "https://localhost:8080/"
        },
        "id": "le13QEbVScuq",
        "outputId": "85840028-078f-4854-adcb-58f4fef008ee"
      },
      "execution_count": 40,
      "outputs": [
        {
          "output_type": "stream",
          "name": "stdout",
          "text": [
            "python_notes\n"
          ]
        }
      ]
    },
    {
      "cell_type": "code",
      "source": [
        "#TIY 2-9\n",
        "print(1+7)\n",
        "print(88-80)\n",
        "print(2*4)\n",
        "print(80/10)"
      ],
      "metadata": {
        "colab": {
          "base_uri": "https://localhost:8080/"
        },
        "id": "dd44acMRfH8o",
        "outputId": "edad4898-cd20-4691-e2c3-60e866bd41a2"
      },
      "execution_count": 41,
      "outputs": [
        {
          "output_type": "stream",
          "name": "stdout",
          "text": [
            "8\n",
            "8\n",
            "8\n",
            "8.0\n"
          ]
        }
      ]
    },
    {
      "cell_type": "code",
      "source": [
        "#TIY 2-10\n",
        "favorite_number = 7\n",
        "print(f\"My favorite number is {favorite_number}.\")"
      ],
      "metadata": {
        "colab": {
          "base_uri": "https://localhost:8080/"
        },
        "id": "MCXJZyhhfsGe",
        "outputId": "07b5f3c5-5bb1-4c0d-ca9d-c0c3d4b49541"
      },
      "execution_count": 43,
      "outputs": [
        {
          "output_type": "stream",
          "name": "stdout",
          "text": [
            "My favorite number is 7.\n"
          ]
        }
      ]
    },
    {
      "cell_type": "code",
      "source": [
        "#TIY 2-11\n",
        "\n",
        "#TIY 2-4\n",
        "name = (\"lIlY dErUsSo\")\n",
        "print(name.lower()) #output will be lowercase\n",
        "print(name.upper()) #output will be uppercase\n",
        "print(name.title()) #output will have the first letter of each word capitalized\n",
        "\n",
        "#TIY 2-5\n",
        "print(\"Shane Madej once said,\" '\"' \"I'm dancing on your bridge Goatman! It's my bridge now!\" '\"') #it looks like a mess but this is how I was able to get\n",
        "                                                                                                  #both apostrophe's and quotations in one line"
      ],
      "metadata": {
        "id": "rCGl3kT4f9Bl"
      },
      "execution_count": null,
      "outputs": []
    },
    {
      "cell_type": "code",
      "source": [
        "#TIY 2-12\n",
        "import this"
      ],
      "metadata": {
        "colab": {
          "base_uri": "https://localhost:8080/"
        },
        "id": "tm0SPVTrhr6w",
        "outputId": "56f82cbc-87e9-4783-b657-e38bf24e1432"
      },
      "execution_count": 44,
      "outputs": [
        {
          "output_type": "stream",
          "name": "stdout",
          "text": [
            "The Zen of Python, by Tim Peters\n",
            "\n",
            "Beautiful is better than ugly.\n",
            "Explicit is better than implicit.\n",
            "Simple is better than complex.\n",
            "Complex is better than complicated.\n",
            "Flat is better than nested.\n",
            "Sparse is better than dense.\n",
            "Readability counts.\n",
            "Special cases aren't special enough to break the rules.\n",
            "Although practicality beats purity.\n",
            "Errors should never pass silently.\n",
            "Unless explicitly silenced.\n",
            "In the face of ambiguity, refuse the temptation to guess.\n",
            "There should be one-- and preferably only one --obvious way to do it.\n",
            "Although that way may not be obvious at first unless you're Dutch.\n",
            "Now is better than never.\n",
            "Although never is often better than *right* now.\n",
            "If the implementation is hard to explain, it's a bad idea.\n",
            "If the implementation is easy to explain, it may be a good idea.\n",
            "Namespaces are one honking great idea -- let's do more of those!\n"
          ]
        }
      ]
    }
  ]
}