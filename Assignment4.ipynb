{
  "nbformat": 4,
  "nbformat_minor": 0,
  "metadata": {
    "colab": {
      "provenance": [],
      "authorship_tag": "ABX9TyNIkNNvvBqN4RoTIBNPTz8S",
      "include_colab_link": true
    },
    "kernelspec": {
      "name": "python3",
      "display_name": "Python 3"
    },
    "language_info": {
      "name": "python"
    }
  },
  "cells": [
    {
      "cell_type": "markdown",
      "metadata": {
        "id": "view-in-github",
        "colab_type": "text"
      },
      "source": [
        "<a href=\"https://colab.research.google.com/github/Lily-Derusso/CSC221_jderu004/blob/main/Assignment4.ipynb\" target=\"_parent\"><img src=\"https://colab.research.google.com/assets/colab-badge.svg\" alt=\"Open In Colab\"/></a>"
      ]
    },
    {
      "cell_type": "code",
      "execution_count": 8,
      "metadata": {
        "id": "Z7Dkg1xBjfYM",
        "colab": {
          "base_uri": "https://localhost:8080/"
        },
        "outputId": "b40957bf-d8e7-45ed-d7c7-e6e0f67efb34"
      },
      "outputs": [
        {
          "output_type": "stream",
          "name": "stdout",
          "text": [
            "Oliver\n",
            "Evan\n",
            "Logan\n",
            "Kevin\n",
            "Noah\n",
            "Kahmani\n"
          ]
        }
      ],
      "source": [
        "#TIY 3-1\n",
        "friends = ('oliver', 'evan', 'logan', 'kevin', 'noah' ,'kahmani')\n",
        "print(friends[0].title())\n",
        "print(friends[1].title())\n",
        "print(friends[2].title())\n",
        "print(friends[3].title())\n",
        "print(friends[4].title())\n",
        "print(friends[5].title())"
      ]
    },
    {
      "cell_type": "code",
      "source": [
        "#TIY 3-2\n",
        "friends = ('oliver', 'evan', 'logan', 'kevin', 'noah' ,'kahmani')\n",
        "print(f\"Hello {friends[0].title()}! It's nice to hear from you\")\n",
        "print(f\"Hello {friends[1].title()}! It's nice to hear from you\")\n",
        "print(f\"Hello {friends[2].title()}! It's nice to hear from you\")\n",
        "print(f\"Hello {friends[3].title()}! It's nice to hear from you\")\n",
        "print(f\"Hello {friends[4].title()}! It's nice to hear from you\")\n",
        "print(f\"Hello {friends[5].title()}! It's nice to hear from you\")"
      ],
      "metadata": {
        "colab": {
          "base_uri": "https://localhost:8080/"
        },
        "id": "WjXhAWAU7DOG",
        "outputId": "6af75ee7-3f7f-4bd0-9104-bd5608da8697"
      },
      "execution_count": 14,
      "outputs": [
        {
          "output_type": "stream",
          "name": "stdout",
          "text": [
            "Hello Oliver! It's nice to hear from you\n",
            "Hello Evan! It's nice to hear from you\n",
            "Hello Logan! It's nice to hear from you\n",
            "Hello Kevin! It's nice to hear from you\n",
            "Hello Noah! It's nice to hear from you\n",
            "Hello Kahmani! It's nice to hear from you\n"
          ]
        }
      ]
    },
    {
      "cell_type": "code",
      "source": [
        "#TIY 3-3\n",
        "wanted_transport = ('skateboard', 'scooter', 'pair of heelys sneakers')\n",
        "print(f\"I would like to own a {wanted_transport[0]}\")\n",
        "print(f\"I would like to own a {wanted_transport[1]}\")\n",
        "print(f\"I would like to own a {wanted_transport[2]}\")"
      ],
      "metadata": {
        "colab": {
          "base_uri": "https://localhost:8080/"
        },
        "id": "WsBAYkoo8A9V",
        "outputId": "42b14cba-8f63-4375-f9ae-37a10c22f99f"
      },
      "execution_count": 18,
      "outputs": [
        {
          "output_type": "stream",
          "name": "stdout",
          "text": [
            "I would like to own a skateboard\n",
            "I would like to own a scooter\n",
            "I would like to own a pair of heelys sneakers\n"
          ]
        }
      ]
    },
    {
      "cell_type": "code",
      "source": [
        "#TIY 3-4\n",
        "guests = ['noah', 'kahmani', 'oliver', 'evan']\n",
        "print(f\"Dear {guests[0].title()}, you are invited to dinner\")\n",
        "print(f\"Dear {guests[1].title()}, you are invited to dinner\")\n",
        "print(f\"Dear {guests[2].title()}, you are invited to dinner\")\n",
        "print(f\"Dear {guests[3].title()}, you are invited to dinner\")"
      ],
      "metadata": {
        "colab": {
          "base_uri": "https://localhost:8080/"
        },
        "id": "Ps7DZltA802y",
        "outputId": "db89f020-db82-4446-c441-d6cd5b609149"
      },
      "execution_count": 33,
      "outputs": [
        {
          "output_type": "stream",
          "name": "stdout",
          "text": [
            "Dear Noah, you are invited to dinner\n",
            "Dear Kahmani, you are invited to dinner\n",
            "Dear Oliver, you are invited to dinner\n",
            "Dear Evan, you are invited to dinner\n"
          ]
        }
      ]
    },
    {
      "cell_type": "code",
      "source": [
        "#TIY 3-5\n",
        "guests = ['noah', 'kahmani', 'oliver', 'evan']\n",
        "can_t = 'noah'\n",
        "guests.remove(can_t)\n",
        "guests.append('kevin')\n",
        "print(f\"Dear {guests[0].title()}, you are invited to dinner\")\n",
        "print(f\"Dear {guests[1].title()}, you are invited to dinner\")\n",
        "print(f\"Dear {guests[2].title()}, you are invited to dinner\")\n",
        "print(f\"Dear {guests[3].title()}, you are invited to dinner\")\n",
        "print(f\"Sadly, {can_t.title()} can't make it to dinner\")"
      ],
      "metadata": {
        "colab": {
          "base_uri": "https://localhost:8080/"
        },
        "id": "ypk_0AogDC8s",
        "outputId": "1f80226b-093c-422f-8dd5-9e1a6dc45575"
      },
      "execution_count": 32,
      "outputs": [
        {
          "output_type": "stream",
          "name": "stdout",
          "text": [
            "Dear Kahmani, you are invited to dinner\n",
            "Dear Oliver, you are invited to dinner\n",
            "Dear Evan, you are invited to dinner\n",
            "Dear Kevin, you are invited to dinner\n",
            "Sadly, Noah can't make it to dinner\n"
          ]
        }
      ]
    },
    {
      "cell_type": "code",
      "source": [
        "#TIY 3-6\n",
        "guests = ['noah', 'kahmani', 'oliver', 'evan']\n",
        "can_t = 'noah'\n",
        "guests.remove(can_t)\n",
        "guests.append('kevin')\n",
        "guests.insert(0, 'henry')\n",
        "guests.insert(4, 'logan')\n",
        "guests.append('jacob')\n",
        "print(f\"Dear {guests[0].title()}, I have a bigger dinner table now so you are invited to dinner\")\n",
        "print(f\"Dear {guests[1].title()}, I have a bigger dinner table now so you are invited to dinner\")\n",
        "print(f\"Dear {guests[2].title()}, I have a bigger dinner table now so you are invited to dinner\")\n",
        "print(f\"Dear {guests[3].title()}, I have a bigger dinner table now so you are invited to dinner\")\n",
        "print(f\"Dear {guests[4].title()}, I have a bigger dinner table now so you are invited to dinner\")\n",
        "print(f\"Dear {guests[5].title()}, I have a bigger dinner table now so you are invited to dinner\")\n",
        "print(f\"Dear {guests[6].title()}, I have a bigger dinner table now so you are invited to dinner\")"
      ],
      "metadata": {
        "colab": {
          "base_uri": "https://localhost:8080/"
        },
        "id": "4pJN0iebGBpA",
        "outputId": "453f1d6c-fc5e-409c-b0d3-63f964e2e5dc"
      },
      "execution_count": 37,
      "outputs": [
        {
          "output_type": "stream",
          "name": "stdout",
          "text": [
            "Dear Henry, I have a bigger dinner table now so you are invited to dinner\n",
            "Dear Kahmani, I have a bigger dinner table now so you are invited to dinner\n",
            "Dear Oliver, I have a bigger dinner table now so you are invited to dinner\n",
            "Dear Evan, I have a bigger dinner table now so you are invited to dinner\n",
            "Dear Logan, I have a bigger dinner table now so you are invited to dinner\n",
            "Dear Kevin, I have a bigger dinner table now so you are invited to dinner\n",
            "Dear Jacob, I have a bigger dinner table now so you are invited to dinner\n"
          ]
        }
      ]
    },
    {
      "cell_type": "code",
      "source": [
        "#TIY 3-7\n",
        "guests = ['noah', 'kahmani', 'oliver', 'evan']\n",
        "can_t = 'noah'\n",
        "guests.remove(can_t)\n",
        "guests.append('kevin')\n",
        "guests.insert(0, 'henry')\n",
        "guests.insert(4, 'logan')\n",
        "guests.append('jacob')\n",
        "\n",
        "removed_guest = guests.pop() #1st guest\n",
        "print(f\"I am sorry {removed_guest.title()} but I can only host 2 people at this dinner\")\n",
        "removed_guest = guests.pop() #2nd guest\n",
        "print(f\"I am sorry {removed_guest.title()} but I can only host 2 people at this dinner\")\n",
        "removed_guest = guests.pop() #3rd guest\n",
        "print(f\"I am sorry {removed_guest.title()} but I can only host 2 people at this dinner\")\n",
        "removed_guest = guests.pop() #4th guest\n",
        "print(f\"I am sorry {removed_guest.title()} but I can only host 2 people at this dinner\")\n",
        "removed_guest = guests.pop() #5th guest\n",
        "print(f\"I am sorry {removed_guest.title()} but I can only host 2 people at this dinner\")\n",
        "\n",
        "print(f\"Dear {guests[0].title()}, I am now only able to host 2 people for dinner and you are invited\")\n",
        "del guests[0] #6th guest\n",
        "print(f\"Dear {guests[0].title()}, I am now only able to host 2 people for dinner and you are invited\")\n",
        "del guests[0]  #7th guest\n",
        "print([guests])"
      ],
      "metadata": {
        "colab": {
          "base_uri": "https://localhost:8080/"
        },
        "id": "NDyKGF65H5UP",
        "outputId": "1b645418-7e44-4a95-99fb-610fdcabc92f"
      },
      "execution_count": 69,
      "outputs": [
        {
          "output_type": "stream",
          "name": "stdout",
          "text": [
            "I am sorry Jacob but I can only host 2 people at this dinner\n",
            "I am sorry Kevin but I can only host 2 people at this dinner\n",
            "I am sorry Logan but I can only host 2 people at this dinner\n",
            "I am sorry Evan but I can only host 2 people at this dinner\n",
            "I am sorry Oliver but I can only host 2 people at this dinner\n",
            "Dear Henry, I am now oly able to host 2 people for dinner and you are invited\n",
            "Dear Kahmani, I am now oly able to host 2 people for dinner and you are invited\n",
            "[[]]\n"
          ]
        }
      ]
    },
    {
      "cell_type": "code",
      "source": [
        "#TIY 3-8\n",
        "places_to_visit = ['tokyo', 'venice', 'reykjavík', 'athens', 'salem']  #first bullet\n",
        "places = [i.title() for i in places_to_visit]  #I wanted them capitialized\n",
        "print(places)  #second bullet\n",
        "print(sorted(places))  #third bullet\n",
        "print(places)  #forth bullet\n",
        "print(sorted(places, reverse = True))  #fifth bullet\n",
        "print(places)  #sixth bullet\n",
        "places.reverse()\n",
        "print(places)  #seventh bullet\n",
        "places.reverse()\n",
        "print(places)  #eighth bullet\n",
        "places.sort()\n",
        "print(places)  #ninth bullet\n",
        "places.sort(reverse = True)\n",
        "print(places)  #tenth bullet"
      ],
      "metadata": {
        "colab": {
          "base_uri": "https://localhost:8080/"
        },
        "id": "HBqmK4KsaRbR",
        "outputId": "8e5d820a-c2f8-41fc-e04e-74522916fe37"
      },
      "execution_count": 111,
      "outputs": [
        {
          "output_type": "stream",
          "name": "stdout",
          "text": [
            "['Tokyo', 'Venice', 'Reykjavík', 'Athens', 'Salem']\n",
            "['Athens', 'Reykjavík', 'Salem', 'Tokyo', 'Venice']\n",
            "['Tokyo', 'Venice', 'Reykjavík', 'Athens', 'Salem']\n",
            "['Venice', 'Tokyo', 'Salem', 'Reykjavík', 'Athens']\n",
            "['Tokyo', 'Venice', 'Reykjavík', 'Athens', 'Salem']\n",
            "['Salem', 'Athens', 'Reykjavík', 'Venice', 'Tokyo']\n",
            "['Tokyo', 'Venice', 'Reykjavík', 'Athens', 'Salem']\n",
            "['Athens', 'Reykjavík', 'Salem', 'Tokyo', 'Venice']\n",
            "['Venice', 'Tokyo', 'Salem', 'Reykjavík', 'Athens']\n"
          ]
        }
      ]
    },
    {
      "cell_type": "code",
      "source": [
        "#TIY 3-9\n",
        "#taken from TIY 3-6\n",
        "guests = ['noah', 'kahmani', 'oliver', 'evan']\n",
        "can_t = 'noah'\n",
        "guests.remove(can_t)\n",
        "guests.append('kevin')\n",
        "guests.insert(0, 'henry')\n",
        "guests.insert(4, 'logan')\n",
        "guests.append('jacob')\n",
        "print(len(guests))"
      ],
      "metadata": {
        "colab": {
          "base_uri": "https://localhost:8080/"
        },
        "id": "DOZq2BMHks0J",
        "outputId": "23ff04e5-e5da-4f40-b91d-932fad3dba2d"
      },
      "execution_count": 116,
      "outputs": [
        {
          "output_type": "stream",
          "name": "stdout",
          "text": [
            "7\n"
          ]
        }
      ]
    },
    {
      "cell_type": "code",
      "source": [
        "#TIY 3-10\n",
        "cities = ['riften', 'whiterun', 'dawnstar', 'solitude', 'winterhold', 'helgen']\n",
        "cities.append('falkreath')  #append() function\n",
        "print(f'{cities} append() function')\n",
        "cities.insert(2, 'morthal')  #insert() function\n",
        "print(f'{cities} insert() Function')\n",
        "del cities[2]  #del function\n",
        "print(f'{cities} del Function')\n",
        "cities.pop()  #pop() function\n",
        "print(f'{cities} pop() Function')\n",
        "cities.remove('riften')  #.remove function\n",
        "print(f'{cities} .remove Function')\n",
        "print(f'{sorted(cities)} sorted function')  #sorted() function\n",
        "print(f'{cities} before .reverse Function')\n",
        "cities.reverse()  #reverse function\n",
        "print(f'{cities} after .reverse Function')\n",
        "print(f'{len(cities)} len() Function')  #len() function"
      ],
      "metadata": {
        "colab": {
          "base_uri": "https://localhost:8080/"
        },
        "id": "o77PcHenlY_N",
        "outputId": "f93e5e4d-0816-47f7-a2ac-27fce8c4535f"
      },
      "execution_count": 143,
      "outputs": [
        {
          "output_type": "stream",
          "name": "stdout",
          "text": [
            "['riften', 'whiterun', 'dawnstar', 'solitude', 'winterhold', 'helgen', 'falkreath'] append() function\n",
            "['riften', 'whiterun', 'morthal', 'dawnstar', 'solitude', 'winterhold', 'helgen', 'falkreath'] insert() Function\n",
            "['riften', 'whiterun', 'dawnstar', 'solitude', 'winterhold', 'helgen', 'falkreath'] del Function\n",
            "['riften', 'whiterun', 'dawnstar', 'solitude', 'winterhold', 'helgen'] pop() Function\n",
            "['whiterun', 'dawnstar', 'solitude', 'winterhold', 'helgen'] .remove Function\n",
            "['dawnstar', 'helgen', 'solitude', 'whiterun', 'winterhold'] sorted function\n",
            "['whiterun', 'dawnstar', 'solitude', 'winterhold', 'helgen'] before .reverse Function\n",
            "['helgen', 'winterhold', 'solitude', 'dawnstar', 'whiterun'] after .reverse Function\n",
            "5 len() Function\n"
          ]
        }
      ]
    },
    {
      "cell_type": "code",
      "source": [
        "#TIY 3-11\n",
        "cities = ['riften', 'whiterun', 'dawnstar', 'solitude', 'winterhold', 'helgen']\n",
        "print(cities[2])  #for this list an index error can occur if any number higher than 5 or lower than -2 is requested to python"
      ],
      "metadata": {
        "colab": {
          "base_uri": "https://localhost:8080/"
        },
        "id": "lzi47KhssUU6",
        "outputId": "1defa576-7b40-4b4b-bfcb-2561457c7a26"
      },
      "execution_count": 146,
      "outputs": [
        {
          "output_type": "stream",
          "name": "stdout",
          "text": [
            "dawnstar\n"
          ]
        }
      ]
    }
  ]
}