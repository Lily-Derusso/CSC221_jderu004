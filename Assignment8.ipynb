{
  "nbformat": 4,
  "nbformat_minor": 0,
  "metadata": {
    "colab": {
      "provenance": [],
      "authorship_tag": "ABX9TyNtl5WTTVzffUzgGMUGLkW7",
      "include_colab_link": true
    },
    "kernelspec": {
      "name": "python3",
      "display_name": "Python 3"
    },
    "language_info": {
      "name": "python"
    }
  },
  "cells": [
    {
      "cell_type": "markdown",
      "metadata": {
        "id": "view-in-github",
        "colab_type": "text"
      },
      "source": [
        "<a href=\"https://colab.research.google.com/github/Lily-Derusso/CSC221_jderu004/blob/main/Assignment8.ipynb\" target=\"_parent\"><img src=\"https://colab.research.google.com/assets/colab-badge.svg\" alt=\"Open In Colab\"/></a>"
      ]
    },
    {
      "cell_type": "code",
      "execution_count": 26,
      "metadata": {
        "colab": {
          "base_uri": "https://localhost:8080/"
        },
        "id": "J-1iuJnTGIMB",
        "outputId": "05a2903f-5702-4a46-f01a-4336c9c19b10"
      },
      "outputs": [
        {
          "output_type": "stream",
          "name": "stdout",
          "text": [
            "One of my favorite books is Traitor God.\n",
            "One of my favorite books is Trator God by Cameron Johnston.\n"
          ]
        }
      ],
      "source": [
        "#TIY 8-2\n",
        "def favorite_book(title):\n",
        "    '''Prints out the argument is a favored book'''\n",
        "    print(f'One of my favorite books is {title.title()}.')\n",
        "\n",
        "def favorite_book_but_better(title, author):\n",
        "    print(f'One of my favorite books is {title.title()} by {author.title()}.')\n",
        "\n",
        "\n",
        "favorite_book('traitor god')\n",
        "favorite_book_but_better('trator god', 'cameron johnston')"
      ]
    },
    {
      "cell_type": "code",
      "source": [
        "#TIY 8-3\n",
        "def make_shirt(size, message):\n",
        "    '''print summary of size and message of shirt. arg (size, message)'''\n",
        "    print(f'You have ordered a size {size} shirt with the message {message}.')\n",
        "\n",
        "make_shirt('medium', \"\\n\\tThe birds work for the bourgeoisie\")\n",
        "make_shirt(message = \"\\n\\tNo we don't \\n\\t\\t-birds\", size = 'bird size')"
      ],
      "metadata": {
        "colab": {
          "base_uri": "https://localhost:8080/"
        },
        "id": "Awpjh0giGQwK",
        "outputId": "7009fe93-a5ae-4ca4-bf67-18efbb5823a8"
      },
      "execution_count": 9,
      "outputs": [
        {
          "output_type": "stream",
          "name": "stdout",
          "text": [
            "You have ordered a size medium shirt with the message \n",
            "\tThe birds work for the bourgeoisie.\n",
            "You have ordered a size bird size shirt with the message \n",
            "\tNo we don't \n",
            "\t\t-birds.\n"
          ]
        }
      ]
    },
    {
      "cell_type": "code",
      "source": [
        "#TIY 8-4\n",
        "def make_shirt(size = 'large', message = 'I love python'):\n",
        "    '''print summary of size and message of shirt. arg (size, message)'''\n",
        "    print(f'You have ordered a size {size} shirt with the message {message}.')\n",
        "\n",
        "make_shirt()\n",
        "make_shirt('medium')\n",
        "make_shirt('small', '\\n\\tRoad work ahead, I sure hope it does.\\n\\t\\t-Abe Lincoln')"
      ],
      "metadata": {
        "colab": {
          "base_uri": "https://localhost:8080/"
        },
        "id": "hk3GMwGbGSjZ",
        "outputId": "fb67f22e-7ccb-4605-e532-e72c063f036c"
      },
      "execution_count": 15,
      "outputs": [
        {
          "output_type": "stream",
          "name": "stdout",
          "text": [
            "You have ordered a size large shirt with the message I love python.\n",
            "You have ordered a size medium shirt with the message I love python.\n",
            "You have ordered a size small shirt with the message \n",
            "\tRoad work ahead, I sure hope it does.\n",
            "\t\t-Abe Lincoln.\n"
          ]
        }
      ]
    },
    {
      "cell_type": "code",
      "source": [
        "#func8 psudo code\n",
        "'''\n",
        "making sure c has a default of 42 so that 2 or 3 arguments can be inputted\n",
        "funcion - func8(a,b,c=42)\n",
        "    sum of numbers\n",
        "        -total = a+b+c\n",
        "    product of numbers\n",
        "        -multi = a*b*c\n",
        "    numbers sorted\n",
        "        -turn into a list by adding []\n",
        "        func_list = [a,b,c]\n",
        "        -then sorting the list\n",
        "        func_list = sorted(func_list)\n",
        "    print all three results\n",
        "        -print(total, multi, func_list)\n",
        "'''"
      ],
      "metadata": {
        "id": "theJGAnLzfep"
      },
      "execution_count": null,
      "outputs": []
    },
    {
      "cell_type": "code",
      "source": [
        "#func8 code\n",
        "def func8(a, b, c = 42):\n",
        "    '''takes two or three numbers and returns three things: their sum, their\n",
        "    product, and a list containing the numbers in sorted order'''\n",
        "    total = a + b + c\n",
        "    multi = a * b * c\n",
        "    func_list = [a, b, c]\n",
        "    func_list = sorted(func_list)\n",
        "    return total, multi, func_list\n"
      ],
      "metadata": {
        "id": "ewwIBoHCGWQI"
      },
      "execution_count": 53,
      "outputs": []
    },
    {
      "cell_type": "code",
      "source": [
        "#func8 code testing\n",
        "print(func8(5,10,2))\n",
        "print(func8(5,-10,2))\n",
        "print(func8(5,0))\n",
        "print(func8(3, 10000))\n",
        "print(func8(0, 0, -0))\n",
        "print(func8(0, 0))\n",
        "print(func8(2**2, 5, 7))\n",
        "print(func8(93**9, 5, 7))\n",
        "print(func8(.001, 7 ,.35))"
      ],
      "metadata": {
        "colab": {
          "base_uri": "https://localhost:8080/"
        },
        "id": "kaXnFIIj02XS",
        "outputId": "6f3d3c10-e6de-4568-a9dc-b0e5040ff0ed"
      },
      "execution_count": 58,
      "outputs": [
        {
          "output_type": "stream",
          "name": "stdout",
          "text": [
            "(17, 100, [2, 5, 10])\n",
            "(-3, -100, [-10, 2, 5])\n",
            "(47, 0, [0, 5, 42])\n",
            "(10045, 1260000, [3, 42, 10000])\n",
            "(0, 0, [0, 0, 0])\n",
            "(42, 0, [0, 0, 42])\n",
            "(16, 140, [4, 5, 7])\n",
            "(520411082988487305, 18214387904597055255, [5, 7, 520411082988487293])\n",
            "(7.351, 0.00245, [0.001, 0.35, 7])\n"
          ]
        }
      ]
    },
    {
      "cell_type": "code",
      "source": [
        "#TIY 8-1\n",
        "def display_message():\n",
        "    '''simple print message when called. no arg. no return'''\n",
        "    print(\"In this chapter I am learning to call functions\")\n",
        "\n",
        "display_message()"
      ],
      "metadata": {
        "colab": {
          "base_uri": "https://localhost:8080/"
        },
        "id": "YFnxNzFjLfuF",
        "outputId": "559bacbf-c222-4b68-892e-4469f16fc2f9"
      },
      "execution_count": 21,
      "outputs": [
        {
          "output_type": "stream",
          "name": "stdout",
          "text": [
            "In this chapter I am learning to call functions\n"
          ]
        }
      ]
    },
    {
      "cell_type": "code",
      "source": [
        "#TIY 8-5\n",
        "def describe_city(city, country = 'italy'):\n",
        "    print(f\"{city.title()} is in {country.title()}.\")\n",
        "\n",
        "describe_city('rome')\n",
        "describe_city('athens, greece')\n",
        "describe_city('pompeii')"
      ],
      "metadata": {
        "colab": {
          "base_uri": "https://localhost:8080/"
        },
        "id": "Dib5iEV7s6L_",
        "outputId": "688f6c00-3f0d-4da7-b1cc-93d9dda5bc83"
      },
      "execution_count": 18,
      "outputs": [
        {
          "output_type": "stream",
          "name": "stdout",
          "text": [
            "Rome is in Italy.\n",
            "Athens, Greece is in Italy.\n",
            "Pompeii is in Italy.\n"
          ]
        }
      ]
    }
  ]
}