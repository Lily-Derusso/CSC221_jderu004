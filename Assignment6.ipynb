{
  "nbformat": 4,
  "nbformat_minor": 0,
  "metadata": {
    "colab": {
      "provenance": [],
      "authorship_tag": "ABX9TyPOw4PF4GRUfJ4pJRoM2qX4",
      "include_colab_link": true
    },
    "kernelspec": {
      "name": "python3",
      "display_name": "Python 3"
    },
    "language_info": {
      "name": "python"
    }
  },
  "cells": [
    {
      "cell_type": "markdown",
      "metadata": {
        "id": "view-in-github",
        "colab_type": "text"
      },
      "source": [
        "<a href=\"https://colab.research.google.com/github/Lily-Derusso/CSC221_jderu004/blob/main/Assignment6.ipynb\" target=\"_parent\"><img src=\"https://colab.research.google.com/assets/colab-badge.svg\" alt=\"Open In Colab\"/></a>"
      ]
    },
    {
      "cell_type": "code",
      "execution_count": null,
      "metadata": {
        "colab": {
          "base_uri": "https://localhost:8080/"
        },
        "id": "jSMZB1tCDIYh",
        "outputId": "3dce9852-9aa2-49ad-9c58-809caf33b4cf"
      },
      "outputs": [
        {
          "output_type": "stream",
          "name": "stdout",
          "text": [
            "Is character == 'luke'? I perdict true.\n",
            "True\n",
            "Is character == 'leia'? I perdict false\n",
            "False\n",
            "\n",
            "Is 'peperoni' in toppings? I perdict true.\n",
            "True\n",
            "Is 'extra cheese' in toppings? I perdict false.\n",
            "False\n",
            "Is 'ham' in toppings? I perdict true.\n",
            "True\n",
            "Is 'Ham' in toppings? I perdict false.\n",
            "False\n",
            "Is 'spinach' in toppings? I perdict true.\n",
            "True\n",
            "Is 'sausage' in toppings? I perdict false.\n",
            "False\n",
            "Is 'pineapple' in toppings? I perdict true.\n",
            "True\n",
            "Is 'bacon' in toppings? I perdict false.\n",
            "False\n"
          ]
        }
      ],
      "source": [
        "    #TIY 5-1\n",
        "character = 'luke'\n",
        "print(\"Is character == 'luke'? I perdict true.\")#1\n",
        "print(character == 'luke')\n",
        "print(\"Is character == 'leia'? I perdict false\")#2\n",
        "print(character == 'leia')\n",
        "\n",
        "toppings = ['peperoni', 'spinach', 'ham', 'pineapple']\n",
        "print(\"\\nIs 'peperoni' in toppings? I perdict true.\")#3\n",
        "print('peperoni' in toppings)\n",
        "print(\"Is 'extra cheese' in toppings? I perdict false.\")#4\n",
        "print('extra cheese' in toppings)\n",
        "print(\"Is 'ham' in toppings? I perdict true.\")#5\n",
        "print('ham' in toppings)\n",
        "print(\"Is 'Ham' in toppings? I perdict false.\")#6\n",
        "print('Ham' in toppings)\n",
        "print(\"Is 'spinach' in toppings? I perdict true.\")#7\n",
        "print('spinach' in toppings)\n",
        "print(\"Is 'sausage' in toppings? I perdict false.\")#8\n",
        "print('sausage' in toppings)\n",
        "print(\"Is 'pineapple' in toppings? I perdict true.\")#9\n",
        "print('pineapple' in toppings)\n",
        "print(\"Is 'bacon' in toppings? I perdict false.\")\n",
        "print('bacon' in toppings)"
      ]
    },
    {
      "cell_type": "code",
      "source": [
        "#TIY 5-2\n",
        "grade = 'A'\n",
        "print(f\"{grade == 'A'} #1\") #1\n",
        "print(grade == 'B')\n",
        "\n",
        "car = 'Batmobile'\n",
        "print(f\"\\n{car.lower() == 'batmobile'} #2\")#2\n",
        "print(car.lower() == 'ford')\n",
        "\n",
        "age = 20\n",
        "print(f\"\\n{age != 20} #3a\")#3a\n",
        "print(age == 20)\n",
        "print(f\"{age > 20} #3b\")#3b\n",
        "print(age < 20)\n",
        "print(f\"{age >= 21} #3c\")#3c\n",
        "print(age <= 20)\n",
        "\n",
        "drinks = ['root beer', 'coke', 'sprite']\n",
        "print(f\"\\n{'root beer' and  'sprite' in drinks} #4\") #4\n",
        "print('sprite' in drinks or 'fanta' in drinks)\n",
        "\n",
        "shopping_list = ['water', 'pizza', 'bread']\n",
        "print(f\"\\n{'pizza' in shopping_list} #5\") #5\n",
        "print(f\"\\n{'pizza' not in shopping_list} #6\") #6"
      ],
      "metadata": {
        "colab": {
          "base_uri": "https://localhost:8080/"
        },
        "id": "OvowQPzwDReB",
        "outputId": "77f2ee58-e866-4d88-82ce-6ee287401305"
      },
      "execution_count": null,
      "outputs": [
        {
          "output_type": "stream",
          "name": "stdout",
          "text": [
            "True #1\n",
            "False\n",
            "\n",
            "True #2\n",
            "False\n",
            "\n",
            "False #3a\n",
            "True\n",
            "False #3b\n",
            "False\n",
            "False #3c\n",
            "True\n",
            "\n",
            "True #4\n",
            "True\n",
            "\n",
            "True #5\n",
            "\n",
            "False #6\n"
          ]
        }
      ]
    },
    {
      "cell_type": "code",
      "source": [
        "#TIY 5-3\n",
        "#2 if blocks\n",
        "alien_color = 'green'\n",
        "if alien_color == 'green':\n",
        "    print(\"You have earned 5 points\") #1\n",
        "if alien_color != 'green':\n",
        "    print(\"You have earned 10 points\")#2\n",
        "#1 if 1 else block\n",
        "alien_color = 'red'\n",
        "if alien_color == 'green':\n",
        "    print(\"\\nYou have earned 5 points\") #1\n",
        "else:\n",
        "    print(\"\\nYou have earned 10 points\")#2"
      ],
      "metadata": {
        "colab": {
          "base_uri": "https://localhost:8080/"
        },
        "id": "NTTxVpK6DVc4",
        "outputId": "b5a355ce-b9de-479c-840e-16e4ff2e8098"
      },
      "execution_count": 73,
      "outputs": [
        {
          "output_type": "stream",
          "name": "stdout",
          "text": [
            "You have earned 5 points\n",
            "\n",
            "You have earned 10 points\n"
          ]
        }
      ]
    },
    {
      "cell_type": "code",
      "source": [
        "#TIY 5-6\n",
        "def year(age):\n",
        "\n",
        "    if age < 2:\n",
        "        print(\"They are a baby\")\n",
        "    elif 2  <= age < 4:\n",
        "        print(\"They are a toddler\")\n",
        "    elif 4 <= age < 13:\n",
        "        print(\"They are a kid\")\n",
        "    elif 13 <= age < 20:\n",
        "        print(\"They are a teen\")\n",
        "    elif 20 <= age < 65:\n",
        "        print(\"They are an adult\")\n",
        "    else:\n",
        "        print(\"They are an elder\")\n",
        "\n",
        "year(14)\n",
        "year(5)\n",
        "year(1)\n",
        "year(23)"
      ],
      "metadata": {
        "id": "Qoa7yv7PDYKs",
        "colab": {
          "base_uri": "https://localhost:8080/"
        },
        "outputId": "f23ca561-7010-4db9-c7be-645f7ffc1f78"
      },
      "execution_count": 117,
      "outputs": [
        {
          "output_type": "stream",
          "name": "stdout",
          "text": [
            "They are a teen\n",
            "They are a kid\n",
            "They are a baby\n",
            "They are an adult\n"
          ]
        }
      ]
    },
    {
      "cell_type": "code",
      "source": [
        "#TIY 5-12\n",
        "#styling complies with PEP8"
      ],
      "metadata": {
        "id": "OKalmrRFDcJk"
      },
      "execution_count": null,
      "outputs": []
    },
    {
      "cell_type": "code",
      "source": [
        "#TIY 5-13\n",
        "#war\n",
        "#work in progress. Workng on figuring out why deck size resets every round\n",
        "import random\n",
        "\n",
        "play = True\n",
        "while play == True:\n",
        "    cards = [2, 2, 2, 2, 3, 3, 3, 3, 4, 4, 4, 4, 5, 5, 5, 5, 6, 6, 6,\n",
        "            6, 7, 7, 7, 7, 8, 8, 8, 8, 9, 9, 9, 9, 10, 10, 10, 10, 10, 10, 10, 10,\n",
        "            10, 10, 10, 10, 10, 10, 10, 10, 11, 11, 11, 11]\n",
        "\n",
        "\n",
        "    deck1 = []\n",
        "    deck2 = []\n",
        "    while len(cards) > 0 :\n",
        "        random.shuffle(cards)\n",
        "        p1card = cards.pop()\n",
        "        deck1.append(p1card)\n",
        "        p2card = cards.pop()\n",
        "        deck2.append(p2card)\n",
        "\n",
        "    round = True\n",
        "    while round == True:\n",
        "        player1_deck = deck1.copy()\n",
        "        player2_deck = deck2.copy()\n",
        "\n",
        "        card1 = random.choice(player1_deck)\n",
        "        card2 = random.choice(player2_deck)\n",
        "\n",
        "        print(\"player One' Card\")\n",
        "        if card1 == 11:\n",
        "            print('A')\n",
        "        elif card1 == 10:\n",
        "            face_card1 = random.randrange(1, 5)\n",
        "            if face_card1 == 1:\n",
        "                print('10')\n",
        "            elif face_card1 == 2:\n",
        "                print(\"J\")\n",
        "            elif face_card1 == 3:\n",
        "                print(\"Q\")\n",
        "            elif face_card1 == 4:\n",
        "                print(\"K\")\n",
        "        else:\n",
        "            print(card1)\n",
        "        print(\"Player Twos Card\")\n",
        "        if card2 == 11:\n",
        "            print('A')\n",
        "        elif card2 == 10:\n",
        "            face_card2 = random.randrange(1, 5)\n",
        "            if face_card2 == 1:\n",
        "                print('10')\n",
        "            elif face_card2 == 2:\n",
        "                print(\"J\")\n",
        "            elif face_card2 == 3:\n",
        "                print(\"Q\")\n",
        "            elif face_card2 == 4:\n",
        "                print(\"K\")\n",
        "        else:\n",
        "            print(card2)\n",
        "        #print(card1)\n",
        "        #print(card2)\n",
        "        if card1 > card2:\n",
        "            player1_deck.append(player2_deck.pop(card2))\n",
        "        #    deck1.append(card2)\n",
        "            print(\"\\nPlayer One wins\")\n",
        "            again = input(\"another round?\")\n",
        "            if again != 'yes':\n",
        "                round = False\n",
        "            else:\n",
        "                round = True\n",
        "\n",
        "        elif card1 < card2:\n",
        "            player2_deck.append(player1_deck.pop(card1))\n",
        "\n",
        "            print(\"\\nPlayer Two wins\")\n",
        "            again = input(\"another round?\")\n",
        "            if again != 'yes':\n",
        "                round = False\n",
        "            else:\n",
        "                round = True\n",
        "\n",
        "        elif card1 == card2:\n",
        "            print(\"\\nTie\")\n",
        "        if len(deck1) < 0:\n",
        "            print(\"Player Two has won the game!\")\n",
        "        play = False\n",
        "        if len(deck2) < 0:\n",
        "            print(\"Player One has won the game!\")\n",
        "            round = False\n",
        "        play = False"
      ],
      "metadata": {
        "colab": {
          "base_uri": "https://localhost:8080/"
        },
        "id": "pBSZ8NhnyEbg",
        "outputId": "a37de1b9-d36e-458c-bd85-3e726aa1cc58"
      },
      "execution_count": 359,
      "outputs": [
        {
          "name": "stdout",
          "output_type": "stream",
          "text": [
            "player One' Card\n",
            "4\n",
            "Player Twos Card\n",
            "J\n",
            "\n",
            "Player Two wins\n",
            "another round?no\n"
          ]
        }
      ]
    },
    {
      "cell_type": "code",
      "source": [
        "#TIY 5-13\n",
        "#blackjack\n",
        "\n",
        "import random\n",
        "\n",
        "card1 = random.randrange(1, 12)\n",
        "card2 = random.randrange(1, 12)\n",
        "dealer_cards = (card1, card2)\n",
        "\n",
        "print(cards)\n",
        "print(dealer_cards)"
      ],
      "metadata": {
        "id": "QrJcFP8wDfG-",
        "colab": {
          "base_uri": "https://localhost:8080/"
        },
        "outputId": "5758bc72-ee6f-4bdd-953e-24797ae86fe9"
      },
      "execution_count": 140,
      "outputs": [
        {
          "output_type": "stream",
          "name": "stdout",
          "text": [
            "10\n",
            "(1, 7)\n"
          ]
        }
      ]
    },
    {
      "cell_type": "code",
      "source": [
        "J, J, J, J, Q,\n",
        "         Q, Q, Q, K, K, K, K, A, A, A, A"
      ],
      "metadata": {
        "id": "1RXLAkka6wT9"
      },
      "execution_count": null,
      "outputs": []
    }
  ]
}